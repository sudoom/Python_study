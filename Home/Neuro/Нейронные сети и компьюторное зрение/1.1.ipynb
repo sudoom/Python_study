{
 "cells": [
  {
   "cell_type": "code",
   "execution_count": 1,
   "outputs": [
    {
     "name": "stdout",
     "text": [
      "tensor(0)\n"
     ],
     "output_type": "stream"
    }
   ],
   "source": [
    "import torch\n",
    "\n",
    "X = torch.tensor([[1, 2, 3], [4, 5, 6], [7, 8, 9]])\n",
    "limit = int(input())\n",
    "\n",
    "larger_than_limit_sum = X[X>limit].sum()\n",
    "\n",
    "print(larger_than_limit_sum)"
   ],
   "metadata": {
    "collapsed": false,
    "pycharm": {
     "name": "#%%\n",
     "is_executing": false
    }
   }
  },
  {
   "cell_type": "code",
   "execution_count": 7,
   "outputs": [
    {
     "name": "stdout",
     "text": [
      "tensor([[-4.0000, -1.3333],\n        [ 2.0000,  3.3333]], dtype=torch.float64, grad_fn=<SubBackward0>)\n"
     ],
     "output_type": "stream"
    }
   ],
   "source": [
    "x = torch.tensor([[1,2],[4,5]], requires_grad=True, dtype=float)\n",
    "z = 10*torch.log((x+1)).sum()\n",
    "z.backward()\n",
    "print(x-x.grad)"
   ],
   "metadata": {
    "collapsed": false,
    "pycharm": {
     "name": "#%%\n",
     "is_executing": false
    }
   }
  },
  {
   "cell_type": "code",
   "execution_count": 13,
   "outputs": [
    {
     "name": "stdout",
     "text": [
      "tensor([[0.0201, 0.0109],\n        [0.0449, 0.0351]], device='cuda:0')\n"
     ],
     "output_type": "stream"
    }
   ],
   "source": [
    "w = torch.tensor([\n",
    "    [5.0,10.0],\n",
    "    [1.0,2.0]\n",
    "], requires_grad=True, device=\"cuda\")\n",
    "\n",
    "function = (torch.log(torch.log(w+7))).prod() \n",
    "function.backward()\n",
    "\n",
    "print(w.grad)"
   ],
   "metadata": {
    "collapsed": false,
    "pycharm": {
     "name": "#%%\n",
     "is_executing": false
    }
   }
  },
  {
   "cell_type": "code",
   "execution_count": 15,
   "outputs": [
    {
     "name": "stdout",
     "text": [
      "tensor([[4.9900, 9.9948],\n        [0.9775, 1.9825]], device='cuda:0', requires_grad=True)\n"
     ],
     "output_type": "stream"
    }
   ],
   "source": [
    "w = torch.tensor([[5., 10.], [1., 2.]], requires_grad=True, device=\"cuda\")\n",
    "alpha = 0.001\n",
    "\n",
    "for _ in range(500):\n",
    "    # it's critical to calculate function inside the loop:\n",
    "    function = (w + 7).log().log().prod()\n",
    "    function.backward()\n",
    "    w.data -=  alpha * w.grad\n",
    "    w.grad.zero_()\n",
    "    # something is missing here!\n",
    "\n",
    "print(w)"
   ],
   "metadata": {
    "collapsed": false,
    "pycharm": {
     "name": "#%%\n",
     "is_executing": false
    }
   }
  },
  {
   "cell_type": "code",
   "execution_count": 16,
   "outputs": [
    {
     "name": "stdout",
     "text": [
      "tensor([[4.9900, 9.9948],\n        [0.9775, 1.9825]], device='cuda:0', requires_grad=True)\n"
     ],
     "output_type": "stream"
    }
   ],
   "source": [
    "w = torch.tensor([[5., 10.], [1., 2.]], requires_grad=True, device=\"cuda\")\n",
    "alpha = 0.001\n",
    "optimizer = torch.optim.SGD([w], lr=alpha) # put our code here. Do not forget [] inside SGD constructor !!!!\n",
    "\n",
    "for _ in range(500):\n",
    "    # it's critical to calculate function inside the loop:\n",
    "    function = (w + 7).log().log().prod()\n",
    "    function.backward()\n",
    "    optimizer.step()\n",
    "    optimizer.zero_grad()\n",
    "    # something is missing here!\n",
    "\n",
    "print(w)"
   ],
   "metadata": {
    "collapsed": false,
    "pycharm": {
     "name": "#%%\n",
     "is_executing": false
    }
   }
  },
  {
   "cell_type": "code",
   "execution_count": 18,
   "outputs": [
    {
     "name": "stdout",
     "text": [
      "Object `plt.show()` not found.\n0.25\n"
     ],
     "output_type": "stream"
    },
    {
     "data": {
      "text/plain": "<Figure size 432x288 with 1 Axes>",
      "image/png": "[encoded data removed]"
     },
     "metadata": {
      "needs_background": "light"
     },
     "output_type": "display_data"
    }
   ],
   "source": [
    "from math import exp\n",
    "import matplotlib.pyplot as plt\n",
    "import numpy as np\n",
    "\n",
    "x = np.arange(-15,15,0.1)\n",
    "\n",
    "\n",
    "def func(x):\n",
    "    return (1/(1+exp(-x))) * (1 - (1/(1+exp(-x))))\n",
    "\n",
    "\n",
    "y = [func(i) for i in x]\n",
    "plt.plot(x, y)\n",
    "?plt.show()\n",
    "print(max(y))"
   ],
   "metadata": {
    "collapsed": false,
    "pycharm": {
     "name": "#%%\n",
     "is_executing": false
    }
   }
  }
 ],
 "metadata": {
  "kernelspec": {
   "display_name": "Python 3",
   "language": "python",
   "name": "python3"
  },
  "language_info": {
   "codemirror_mode": {
    "name": "ipython",
    "version": 2
   },
   "file_extension": ".py",
   "mimetype": "text/x-python",
   "name": "python",
   "nbconvert_exporter": "python",
   "pygments_lexer": "ipython2",
   "version": "2.7.6"
  },
  "pycharm": {
   "stem_cell": {
    "cell_type": "raw",
    "source": [],
    "metadata": {
     "collapsed": false
    }
   }
  }
 },
 "nbformat": 4,
 "nbformat_minor": 0
}