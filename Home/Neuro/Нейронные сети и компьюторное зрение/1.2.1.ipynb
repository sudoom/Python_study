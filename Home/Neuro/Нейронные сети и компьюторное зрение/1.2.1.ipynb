{
 "cells": [
  {
   "cell_type": "code",
   "execution_count": 166,
   "metadata": {
    "collapsed": true,
    "pycharm": {
     "is_executing": false
    }
   },
   "outputs": [],
   "source": [
    "import torch\n",
    "import matplotlib.pyplot as plt"
   ]
  },
  {
   "cell_type": "code",
   "execution_count": 167,
   "outputs": [],
   "source": [
    "class RegressionNet(torch.nn.Module):\n",
    "    def __init__(self, n_hidden_neurons):\n",
    "        super(RegressionNet, self).__init__()\n",
    "        self.fc1 = torch.nn.Linear(1, n_hidden_neurons)\n",
    "        self.act1 = torch.nn.Tanh()\n",
    "        self.fc3 = torch.nn.Linear(n_hidden_neurons, 1)\n",
    "\n",
    "    def forward(self, x):\n",
    "        x = self.fc1(x)\n",
    "        x = self.act1(x)\n",
    "        x = self.fc3(x)\n",
    "        return x\n",
    "\n",
    "net = RegressionNet(90)"
   ],
   "metadata": {
    "collapsed": false,
    "pycharm": {
     "name": "#%%\n",
     "is_executing": false
    }
   }
  },
  {
   "cell_type": "code",
   "execution_count": 168,
   "outputs": [],
   "source": [
    "def target_function(x):\n",
    "    return 2**x * torch.sin(2**-x)"
   ],
   "metadata": {
    "collapsed": false,
    "pycharm": {
     "name": "#%%\n",
     "is_executing": false
    }
   }
  },
  {
   "cell_type": "markdown",
   "source": [
    "# ------Dataset preparation start--------"
   ],
   "metadata": {
    "collapsed": false,
    "pycharm": {
     "name": "#%% md\n"
    }
   }
  },
  {
   "cell_type": "code",
   "execution_count": 169,
   "outputs": [
    {
     "data": {
      "text/plain": "<Figure size 432x288 with 1 Axes>",
      "image/png": "[encoded data removed]"
     },
     "metadata": {
      "needs_background": "light"
     },
     "output_type": "display_data"
    }
   ],
   "source": [
    "x_train =  torch.linspace(-10,5,100)\n",
    "y_train = target_function(x_train)\n",
    "plt.plot(x_train.numpy(), y_train.numpy())\n",
    "plt.title('$y = 2**x * sin(2**-x)$');"
   ],
   "metadata": {
    "collapsed": false,
    "pycharm": {
     "name": "#%%\n",
     "is_executing": false
    }
   }
  },
  {
   "cell_type": "code",
   "execution_count": 170,
   "outputs": [
    {
     "data": {
      "text/plain": "<Figure size 432x288 with 1 Axes>",
      "image/png": "[encoded data removed]"
     },
     "metadata": {
      "needs_background": "light"
     },
     "output_type": "display_data"
    }
   ],
   "source": [
    "noise = torch.randn(y_train.shape) / 20.\n",
    "y_train = y_train + noise\n",
    "plt.plot(x_train.numpy(), noise.numpy(), 'o')\n",
    "plt.axis([-10, 10, -1, 1])\n",
    "plt.title('Gaussian noise');"
   ],
   "metadata": {
    "collapsed": false,
    "pycharm": {
     "name": "#%%\n",
     "is_executing": false
    }
   }
  },
  {
   "cell_type": "code",
   "execution_count": 171,
   "outputs": [
    {
     "data": {
      "text/plain": "tensor([[ 9.7498e-03],\n        [-9.1108e-02],\n        [ 5.6309e-02],\n        [ 8.3776e-03],\n        [-1.1921e-02],\n        [-4.1179e-04],\n        [ 2.6528e-02],\n        [-1.6527e-02],\n        [-7.6975e-02],\n        [-5.3928e-03],\n        [ 1.1365e-03],\n        [ 2.7356e-02],\n        [-6.0680e-02],\n        [ 3.7806e-02],\n        [-5.6875e-04],\n        [-4.5551e-02],\n        [-2.7893e-02],\n        [-9.0823e-03],\n        [-2.2969e-02],\n        [-1.3905e-02],\n        [ 6.4162e-02],\n        [-4.2495e-02],\n        [ 3.6240e-02],\n        [-1.5579e-02],\n        [ 4.0135e-02],\n        [ 1.7381e-02],\n        [ 5.3984e-02],\n        [ 4.0415e-02],\n        [-3.0112e-02],\n        [ 4.9034e-03],\n        [-1.0027e-01],\n        [-2.6240e-02],\n        [-2.8627e-02],\n        [ 6.8044e-02],\n        [-7.6135e-02],\n        [ 4.9727e-02],\n        [ 9.4328e-03],\n        [ 4.6600e-02],\n        [ 5.7108e-02],\n        [-3.4403e-02],\n        [ 7.3028e-02],\n        [ 6.6773e-02],\n        [ 5.0809e-02],\n        [-1.6852e-01],\n        [ 4.4164e-02],\n        [ 1.2424e-01],\n        [ 2.2276e-01],\n        [ 6.4120e-02],\n        [-2.5451e-03],\n        [-5.2654e-02],\n        [-1.2876e-01],\n        [-1.8657e-01],\n        [-2.2215e-01],\n        [-2.1218e-01],\n        [-6.0008e-02],\n        [-2.4043e-02],\n        [ 1.3412e-01],\n        [ 2.1465e-01],\n        [ 2.9382e-01],\n        [ 5.5044e-01],\n        [ 4.4054e-01],\n        [ 6.1031e-01],\n        [ 6.2226e-01],\n        [ 7.8255e-01],\n        [ 7.8417e-01],\n        [ 7.9159e-01],\n        [ 8.1615e-01],\n        [ 8.7084e-01],\n        [ 8.4269e-01],\n        [ 9.0780e-01],\n        [ 9.5769e-01],\n        [ 9.1980e-01],\n        [ 9.6037e-01],\n        [ 9.6894e-01],\n        [ 1.0230e+00],\n        [ 1.0561e+00],\n        [ 9.9580e-01],\n        [ 9.2789e-01],\n        [ 1.0028e+00],\n        [ 1.0189e+00],\n        [ 8.8519e-01],\n        [ 9.9568e-01],\n        [ 9.9516e-01],\n        [ 1.1065e+00],\n        [ 1.0801e+00],\n        [ 9.7514e-01],\n        [ 9.7537e-01],\n        [ 9.8984e-01],\n        [ 9.3754e-01],\n        [ 1.0006e+00],\n        [ 9.8070e-01],\n        [ 1.1225e+00],\n        [ 1.0844e+00],\n        [ 1.0839e+00],\n        [ 9.1903e-01],\n        [ 1.0501e+00],\n        [ 9.7390e-01],\n        [ 9.6013e-01],\n        [ 9.6829e-01],\n        [ 9.8888e-01]])"
     },
     "metadata": {},
     "output_type": "execute_result",
     "execution_count": 171
    }
   ],
   "source": [
    "x_train.unsqueeze_(1)\n",
    "y_train.unsqueeze_(1)"
   ],
   "metadata": {
    "collapsed": false,
    "pycharm": {
     "name": "#%%\n",
     "is_executing": false
    }
   }
  },
  {
   "cell_type": "code",
   "execution_count": 172,
   "outputs": [
    {
     "data": {
      "text/plain": "<Figure size 432x288 with 1 Axes>",
      "image/png": "[encoded data removed]"
     },
     "metadata": {
      "needs_background": "light"
     },
     "output_type": "display_data"
    }
   ],
   "source": [
    "x_validation = torch.linspace(-10, 5, 100)\n",
    "y_validation = target_function(x_validation)\n",
    "plt.plot(x_validation.numpy(), y_validation.numpy())\n",
    "plt.title('sin(x)')\n",
    "plt.xlabel('x_validation')\n",
    "plt.ylabel('y_validation');"
   ],
   "metadata": {
    "collapsed": false,
    "pycharm": {
     "name": "#%%\n",
     "is_executing": false
    }
   }
  },
  {
   "cell_type": "code",
   "execution_count": 173,
   "outputs": [
    {
     "data": {
      "text/plain": "tensor([[-1.5482e-04],\n        [-1.0732e-03],\n        [ 7.0097e-04],\n        [-5.7608e-04],\n        [ 6.5311e-04],\n        [ 9.8906e-04],\n        [-1.7836e-03],\n        [ 1.5283e-03],\n        [ 1.8686e-03],\n        [ 2.1850e-03],\n        [ 3.1936e-04],\n        [ 2.6806e-03],\n        [ 3.3656e-03],\n        [-2.4106e-03],\n        [ 1.0479e-03],\n        [-4.6642e-03],\n        [ 3.9665e-03],\n        [ 4.9870e-03],\n        [-4.1531e-03],\n        [ 6.0007e-03],\n        [-2.5418e-03],\n        [-2.2237e-03],\n        [ 8.5996e-03],\n        [-3.8417e-03],\n        [ 7.4946e-03],\n        [-1.2848e-02],\n        [-1.0455e-02],\n        [-6.5007e-03],\n        [-1.1817e-02],\n        [-2.0529e-02],\n        [-2.9803e-03],\n        [ 2.4776e-02],\n        [-2.3459e-02],\n        [ 1.7232e-02],\n        [-1.7709e-02],\n        [ 2.7786e-02],\n        [-4.1880e-02],\n        [ 3.9170e-02],\n        [ 4.1222e-03],\n        [-5.7028e-02],\n        [ 2.3338e-02],\n        [ 6.8612e-02],\n        [-1.0514e-02],\n        [-8.7542e-02],\n        [-6.0404e-02],\n        [ 3.7816e-02],\n        [ 1.1635e-01],\n        [ 1.1940e-01],\n        [ 5.0195e-02],\n        [-5.2978e-02],\n        [-1.4774e-01],\n        [-2.0545e-01],\n        [-2.1497e-01],\n        [-1.7869e-01],\n        [-1.0644e-01],\n        [-1.0458e-02],\n        [ 9.7796e-02],\n        [ 2.0913e-01],\n        [ 3.1700e-01],\n        [ 4.1724e-01],\n        [ 5.0761e-01],\n        [ 5.8725e-01],\n        [ 6.5621e-01],\n        [ 7.1513e-01],\n        [ 7.6494e-01],\n        [ 8.0670e-01],\n        [ 8.4147e-01],\n        [ 8.7028e-01],\n        [ 8.9404e-01],\n        [ 9.1358e-01],\n        [ 9.2960e-01],\n        [ 9.4270e-01],\n        [ 9.5340e-01],\n        [ 9.6213e-01],\n        [ 9.6924e-01],\n        [ 9.7502e-01],\n        [ 9.7972e-01],\n        [ 9.8355e-01],\n        [ 9.8665e-01],\n        [ 9.8917e-01],\n        [ 9.9122e-01],\n        [ 9.9288e-01],\n        [ 9.9422e-01],\n        [ 9.9532e-01],\n        [ 9.9620e-01],\n        [ 9.9692e-01],\n        [ 9.9750e-01],\n        [ 9.9798e-01],\n        [ 9.9836e-01],\n        [ 9.9867e-01],\n        [ 9.9892e-01],\n        [ 9.9913e-01],\n        [ 9.9929e-01],\n        [ 9.9943e-01],\n        [ 9.9953e-01],\n        [ 9.9962e-01],\n        [ 9.9969e-01],\n        [ 9.9975e-01],\n        [ 9.9980e-01],\n        [ 9.9984e-01]])"
     },
     "metadata": {},
     "output_type": "execute_result",
     "execution_count": 173
    }
   ],
   "source": [
    "x_validation.unsqueeze_(1)\n",
    "y_validation.unsqueeze_(1)"
   ],
   "metadata": {
    "collapsed": false,
    "pycharm": {
     "name": "#%%\n",
     "is_executing": false
    }
   }
  },
  {
   "cell_type": "code",
   "execution_count": 174,
   "outputs": [],
   "source": [
    "def metric(pred, target):\n",
    "    return (pred - target).abs().mean()"
   ],
   "metadata": {
    "collapsed": false,
    "pycharm": {
     "name": "#%%\n",
     "is_executing": false
    }
   }
  },
  {
   "cell_type": "code",
   "execution_count": 179,
   "outputs": [],
   "source": [
    "optimizer = torch.optim.Adam(net.parameters(), lr=0.4)"
   ],
   "metadata": {
    "collapsed": false,
    "pycharm": {
     "name": "#%%\n",
     "is_executing": false
    }
   }
  },
  {
   "cell_type": "code",
   "execution_count": 180,
   "outputs": [],
   "source": [
    "def loss(pred, target):\n",
    "    squares = (pred - target) ** 2\n",
    "    return squares.mean()\n"
   ],
   "metadata": {
    "collapsed": false,
    "pycharm": {
     "name": "#%%\n",
     "is_executing": false
    }
   }
  },
  {
   "cell_type": "code",
   "execution_count": 181,
   "outputs": [
    {
     "name": "stdout",
     "text": [
      "0.021262185648083687\n"
     ],
     "output_type": "stream"
    }
   ],
   "source": [
    "for epoch_index in range(1000):\n",
    "    optimizer.zero_grad()\n",
    "\n",
    "    y_pred = net.forward(x_train)\n",
    "    loss_value = loss(y_pred, y_train)\n",
    "    loss_value.backward()\n",
    "    optimizer.step()\n",
    "    \n",
    "print(metric(net.forward(x_validation), y_validation).item())"
   ],
   "metadata": {
    "collapsed": false,
    "pycharm": {
     "name": "#%%\n",
     "is_executing": false
    }
   }
  },
  {
   "cell_type": "code",
   "execution_count": 182,
   "outputs": [
    {
     "data": {
      "text/plain": "<Figure size 432x288 with 1 Axes>",
      "image/png": "[encoded data removed]"
     },
     "metadata": {
      "needs_background": "light"
     },
     "output_type": "display_data"
    }
   ],
   "source": [
    "def predict(net, x, y):\n",
    "    y_pred = net.forward(x)\n",
    "\n",
    "    plt.plot(x.numpy(), y.numpy(), label='Groud truth')\n",
    "    plt.plot(x.numpy(), y_pred.data.numpy(), c='r', label='Prediction')\n",
    "    plt.legend(loc='upper left')\n",
    "    plt.xlabel('$x$')\n",
    "    plt.ylabel('$y$')\n",
    "\n",
    "\n",
    "predict(net, x_validation, y_validation)"
   ],
   "metadata": {
    "collapsed": false,
    "pycharm": {
     "name": "#%%\n",
     "is_executing": false
    }
   }
  },
  {
   "cell_type": "code",
   "execution_count": 178,
   "outputs": [],
   "source": [],
   "metadata": {
    "collapsed": false,
    "pycharm": {
     "name": "#%%\n",
     "is_executing": false
    }
   }
  },
  {
   "cell_type": "code",
   "execution_count": 178,
   "outputs": [],
   "source": [],
   "metadata": {
    "collapsed": false,
    "pycharm": {
     "name": "#%%\n",
     "is_executing": false
    }
   }
  },
  {
   "cell_type": "code",
   "execution_count": 178,
   "outputs": [],
   "source": [
    "\n"
   ],
   "metadata": {
    "collapsed": false,
    "pycharm": {
     "name": "#%%\n",
     "is_executing": false
    }
   }
  }
 ],
 "metadata": {
  "kernelspec": {
   "display_name": "Python 3",
   "language": "python",
   "name": "python3"
  },
  "language_info": {
   "codemirror_mode": {
    "name": "ipython",
    "version": 2
   },
   "file_extension": ".py",
   "mimetype": "text/x-python",
   "name": "python",
   "nbconvert_exporter": "python",
   "pygments_lexer": "ipython2",
   "version": "2.7.6"
  },
  "pycharm": {
   "stem_cell": {
    "cell_type": "raw",
    "source": [],
    "metadata": {
     "collapsed": false
    }
   }
  }
 },
 "nbformat": 4,
 "nbformat_minor": 0
}