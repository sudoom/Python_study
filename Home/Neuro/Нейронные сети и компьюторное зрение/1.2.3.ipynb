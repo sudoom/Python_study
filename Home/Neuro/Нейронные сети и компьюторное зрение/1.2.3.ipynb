{
 "cells": [
  {
   "cell_type": "markdown",
   "metadata": {
    "collapsed": true,
    "pycharm": {
     "is_executing": false,
     "name": "#%% md\n"
    }
   },
   "source": [
    "![alt text](https://engmrk.com/wp-content/uploads/2018/09/LeNet_Original_Image.jpg)"
   ]
  },
  {
   "cell_type": "markdown",
   "source": [
    "![alt text](https://engmrk.com/wp-content/uploads/2018/09/LeNEt_Summary_Table.jpg)"
   ],
   "metadata": {
    "collapsed": false,
    "pycharm": {
     "name": "#%% md\n",
     "is_executing": false
    }
   }
  },
  {
   "cell_type": "code",
   "execution_count": 1,
   "outputs": [],
   "source": [
    "import torch\n",
    "import random\n",
    "import numpy as np\n",
    "\n",
    "random.seed(0)\n",
    "np.random.seed(0)\n",
    "torch.manual_seed(0)\n",
    "torch.cuda.manual_seed(0)\n",
    "torch.backends.cudnn.deterministic = True"
   ],
   "metadata": {
    "collapsed": false,
    "pycharm": {
     "name": "#%%\n",
     "is_executing": false
    }
   }
  },
  {
   "cell_type": "code",
   "execution_count": 2,
   "outputs": [],
   "source": [
    "import torchvision.datasets"
   ],
   "metadata": {
    "collapsed": false,
    "pycharm": {
     "name": "#%%\n",
     "is_executing": false
    }
   }
  },
  {
   "cell_type": "code",
   "execution_count": 3,
   "outputs": [],
   "source": [
    "MNIST_train = torchvision.datasets.MNIST('./', download=True, train=True)\n",
    "MNIST_test = torchvision.datasets.MNIST('./', download=True, train=False)\n"
   ],
   "metadata": {
    "collapsed": false,
    "pycharm": {
     "name": "#%%\n",
     "is_executing": false
    }
   }
  },
  {
   "cell_type": "code",
   "execution_count": 4,
   "outputs": [
    {
     "name": "stderr",
     "text": [
      "/home/worker/anaconda3/lib/python3.7/site-packages/torchvision/datasets/mnist.py:53: UserWarning: train_data has been renamed data\n  warnings.warn(\"train_data has been renamed data\")\n/home/worker/anaconda3/lib/python3.7/site-packages/torchvision/datasets/mnist.py:43: UserWarning: train_labels has been renamed targets\n  warnings.warn(\"train_labels has been renamed targets\")\n/home/worker/anaconda3/lib/python3.7/site-packages/torchvision/datasets/mnist.py:58: UserWarning: test_data has been renamed data\n  warnings.warn(\"test_data has been renamed data\")\n/home/worker/anaconda3/lib/python3.7/site-packages/torchvision/datasets/mnist.py:48: UserWarning: test_labels has been renamed targets\n  warnings.warn(\"test_labels has been renamed targets\")\n"
     ],
     "output_type": "stream"
    }
   ],
   "source": [
    "X_train = MNIST_train.train_data\n",
    "y_train = MNIST_train.train_labels\n",
    "X_test = MNIST_test.test_data\n",
    "y_test = MNIST_test.test_labels"
   ],
   "metadata": {
    "collapsed": false,
    "pycharm": {
     "name": "#%%\n",
     "is_executing": false
    }
   }
  },
  {
   "cell_type": "code",
   "execution_count": 5,
   "outputs": [
    {
     "data": {
      "text/plain": "(60000, 10000)"
     },
     "metadata": {},
     "output_type": "execute_result",
     "execution_count": 5
    }
   ],
   "source": [
    "len(y_train), len(y_test)"
   ],
   "metadata": {
    "collapsed": false,
    "pycharm": {
     "name": "#%%\n",
     "is_executing": false
    }
   }
  },
  {
   "cell_type": "code",
   "execution_count": 6,
   "outputs": [
    {
     "data": {
      "text/plain": "<Figure size 640x480 with 1 Axes>"
     },
     "metadata": {},
     "output_type": "display_data"
    },
    {
     "name": "stdout",
     "text": [
      "tensor(5)\n"
     ],
     "output_type": "stream"
    }
   ],
   "source": [
    "import matplotlib.pyplot as plt\n",
    "plt.imshow(X_train[0, :, :])\n",
    "plt.show()\n",
    "print(y_train[0])"
   ],
   "metadata": {
    "collapsed": false,
    "pycharm": {
     "name": "#%%\n",
     "is_executing": false
    }
   }
  },
  {
   "cell_type": "code",
   "execution_count": 7,
   "outputs": [],
   "source": [
    "X_train = X_train.unsqueeze(1).float()\n",
    "X_test = X_test.unsqueeze(1).float()"
   ],
   "metadata": {
    "collapsed": false,
    "pycharm": {
     "name": "#%%\n",
     "is_executing": false
    }
   }
  },
  {
   "cell_type": "code",
   "execution_count": 8,
   "outputs": [
    {
     "data": {
      "text/plain": "torch.Size([60000, 1, 28, 28])"
     },
     "metadata": {},
     "output_type": "execute_result",
     "execution_count": 8
    }
   ],
   "source": [
    "X_train.shape"
   ],
   "metadata": {
    "collapsed": false,
    "pycharm": {
     "name": "#%%\n",
     "is_executing": false
    }
   }
  },
  {
   "cell_type": "code",
   "execution_count": 9,
   "outputs": [],
   "source": [
    "class LeNet5(torch.nn.Module):\n",
    "    def __init__(self):\n",
    "        super(LeNet5, self).__init__()\n",
    "        \n",
    "        self.conv1 = torch.nn.Conv2d(\n",
    "            in_channels=1, out_channels=12, kernel_size=3, padding=0)\n",
    "        self.conv4 = torch.nn.Conv2d(\n",
    "            in_channels=12, out_channels=12, kernel_size=3, padding=0\n",
    "        )\n",
    "        self.act1  = torch.nn.ELU()\n",
    "        self.pool1 = torch.nn.MaxPool2d(kernel_size=2, stride=2)\n",
    "       \n",
    "        self.conv2 = torch.nn.Conv2d(\n",
    "            in_channels=12, out_channels=12, kernel_size=3, padding=0)\n",
    "        self.conv3 = torch.nn.Conv2d(\n",
    "            in_channels=12, out_channels=36, kernel_size=3, padding=0\n",
    "        )\n",
    "        self.act2  = torch.nn.ELU()\n",
    "        self.pool2 = torch.nn.MaxPool2d(kernel_size=2, stride=2)\n",
    "        self.fc1   = torch.nn.Linear(4 * 4 * 36, 120)\n",
    "        self.act3  = torch.nn.ELU()\n",
    "        \n",
    "        self.fc2   = torch.nn.Linear(120, 84)\n",
    "        self.act4  = torch.nn.ReLU()\n",
    "        \n",
    "        self.fc3   = torch.nn.Linear(84, 10)\n",
    "    \n",
    "    def forward(self, x):\n",
    "        \n",
    "        x = self.conv1(x)\n",
    "        x = self.conv4(x)\n",
    "        x = self.act1(x)\n",
    "        x = self.pool1(x)\n",
    "        \n",
    "        x = self.conv2(x)\n",
    "        x = self.conv3(x)\n",
    "        x = self.act2(x)\n",
    "        x = self.pool2(x)\n",
    "        \n",
    "        x = x.view(x.size(0), x.size(1) * x.size(2) * x.size(3))\n",
    "\n",
    "        x = self.fc1(x)\n",
    "        x = self.act3(x)\n",
    "        x = self.fc2(x)\n",
    "        x = self.act4(x)\n",
    "        x = self.fc3(x)\n",
    "        \n",
    "        return x\n",
    "    \n",
    "lenet5 = LeNet5()"
   ],
   "metadata": {
    "collapsed": false,
    "pycharm": {
     "name": "#%%\n",
     "is_executing": false
    }
   }
  },
  {
   "cell_type": "code",
   "execution_count": 10,
   "outputs": [],
   "source": [
    "device = torch.device('cuda:0' if torch.cuda.is_available() else 'cpu')\n",
    "lenet5 = lenet5.to(device)"
   ],
   "metadata": {
    "collapsed": false,
    "pycharm": {
     "name": "#%%\n",
     "is_executing": false
    }
   }
  },
  {
   "cell_type": "code",
   "execution_count": 11,
   "outputs": [],
   "source": [
    "loss = torch.nn.CrossEntropyLoss()\n",
    "optimizer = torch.optim.SGD(lenet5.parameters(), lr=1.0e-2, momentum=0.743)"
   ],
   "metadata": {
    "collapsed": false,
    "pycharm": {
     "name": "#%%\n",
     "is_executing": false
    }
   }
  },
  {
   "cell_type": "code",
   "execution_count": 14,
   "outputs": [
    {
     "name": "stdout",
     "text": [
      "epoch 0 tensor(0.9906)\n",
      "epoch 1 tensor(0.9906)\n",
      "epoch 2 tensor(0.9907)\n",
      "epoch 3 tensor(0.9906)\n",
      "epoch 4 tensor(0.9906)\n",
      "epoch 5 tensor(0.9906)\n",
      "epoch 6 tensor(0.9906)\n",
      "epoch 7 tensor(0.9906)\n",
      "epoch 8 tensor(0.9906)\n",
      "epoch 9 tensor(0.9905)\n",
      "epoch 10 tensor(0.9907)\n",
      "epoch 11 tensor(0.9906)\n",
      "epoch 12 tensor(0.9906)\n",
      "epoch 13 tensor(0.9906)\n",
      "epoch 14 tensor(0.9906)\n",
      "epoch 15 tensor(0.9906)\n",
      "epoch 16 tensor(0.9906)\n",
      "epoch 17 tensor(0.9906)\n",
      "epoch 18 tensor(0.9906)\n",
      "epoch 19 tensor(0.9906)\n",
      "epoch 20 tensor(0.9906)\n",
      "epoch 21 tensor(0.9906)\n",
      "epoch 22 tensor(0.9906)\n",
      "epoch 23 tensor(0.9906)\n",
      "epoch 24 tensor(0.9906)\n",
      "epoch 25 tensor(0.9906)\n",
      "epoch 26 tensor(0.9907)\n",
      "epoch 27 tensor(0.9906)\n",
      "epoch 28 tensor(0.9906)\n",
      "epoch 29 tensor(0.9906)\n",
      "epoch 30 tensor(0.9906)\n",
      "epoch 31 tensor(0.9906)\n",
      "epoch 32 tensor(0.9906)\n",
      "epoch 33 tensor(0.9906)\n",
      "epoch 34 tensor(0.9906)\n",
      "epoch 35 tensor(0.9906)\n",
      "epoch 36 tensor(0.9906)\n",
      "epoch 37 tensor(0.9906)\n",
      "epoch 38 tensor(0.9905)\n",
      "epoch 39 tensor(0.9906)\n",
      "epoch 40 tensor(0.9906)\n",
      "epoch 41 tensor(0.9906)\n",
      "epoch 42 tensor(0.9906)\n",
      "epoch 43 tensor(0.9906)\n",
      "epoch 44 tensor(0.9906)\n",
      "epoch 45 tensor(0.9906)\n",
      "epoch 46 tensor(0.9906)\n",
      "epoch 47 tensor(0.9905)\n",
      "epoch 48 tensor(0.9906)\n",
      "epoch 49 tensor(0.9906)\n",
      "epoch 50 tensor(0.9906)\n",
      "epoch 51 tensor(0.9906)\n",
      "epoch 52 tensor(0.9905)\n",
      "epoch 53 tensor(0.9906)\n",
      "epoch 54 tensor(0.9906)\n",
      "epoch 55 tensor(0.9906)\n",
      "epoch 56 tensor(0.9906)\n",
      "epoch 57 tensor(0.9906)\n",
      "epoch 58 tensor(0.9905)\n",
      "epoch 59 tensor(0.9905)\n",
      "epoch 60 tensor(0.9906)\n",
      "epoch 61 tensor(0.9905)\n",
      "epoch 62 tensor(0.9906)\n",
      "epoch 63 tensor(0.9905)\n",
      "epoch 64 tensor(0.9906)\n",
      "epoch 65 tensor(0.9905)\n",
      "epoch 66 tensor(0.9905)\n",
      "epoch 67 tensor(0.9905)\n",
      "epoch 68 tensor(0.9905)\n",
      "epoch 69 tensor(0.9906)\n",
      "epoch 70 tensor(0.9906)\n",
      "epoch 71 tensor(0.9905)\n",
      "epoch 72 tensor(0.9906)\n",
      "epoch 73 tensor(0.9905)\n",
      "epoch 74 tensor(0.9904)\n",
      "epoch 75 tensor(0.9906)\n",
      "epoch 76 tensor(0.9905)\n",
      "epoch 77 tensor(0.9905)\n",
      "epoch 78 tensor(0.9905)\n",
      "epoch 79 tensor(0.9906)\n",
      "epoch 80 tensor(0.9904)\n",
      "epoch 81 tensor(0.9904)\n",
      "epoch 82 tensor(0.9904)\n",
      "epoch 83 tensor(0.9904)\n",
      "epoch 84 tensor(0.9906)\n",
      "epoch 85 tensor(0.9904)\n",
      "epoch 86 tensor(0.9904)\n",
      "epoch 87 tensor(0.9904)\n",
      "epoch 88 tensor(0.9904)\n",
      "epoch 89 tensor(0.9905)\n",
      "epoch 90 tensor(0.9905)\n",
      "epoch 91 tensor(0.9904)\n",
      "epoch 92 tensor(0.9904)\n",
      "epoch 93 tensor(0.9904)\n",
      "epoch 94 tensor(0.9905)\n",
      "epoch 95 tensor(0.9904)\n",
      "epoch 96 tensor(0.9904)\n",
      "epoch 97 tensor(0.9904)\n",
      "epoch 98 tensor(0.9904)\n",
      "epoch 99 tensor(0.9904)\n"
     ],
     "output_type": "stream"
    }
   ],
   "source": [
    "batch_size = 512\n",
    "\n",
    "test_accuracy_history = []\n",
    "test_loss_history = []\n",
    "\n",
    "X_test = X_test.to(device)\n",
    "y_test = y_test.to(device)\n",
    "\n",
    "for epoch in range(100):\n",
    "    order = np.random.permutation(len(X_train))\n",
    "    for start_index in range(0, len(X_train), batch_size):\n",
    "        optimizer.zero_grad()\n",
    "        \n",
    "        batch_indexes = order[start_index:start_index+batch_size]\n",
    "        \n",
    "        X_batch = X_train[batch_indexes].to(device)\n",
    "        y_batch = y_train[batch_indexes].to(device)\n",
    "        \n",
    "        preds = lenet5.forward(X_batch) \n",
    "        \n",
    "        loss_value = loss(preds, y_batch)\n",
    "        loss_value.backward()\n",
    "        \n",
    "        optimizer.step()\n",
    "        \n",
    "    test_preds = lenet5.forward(X_test)\n",
    "    test_loss_history.append(loss(test_preds, y_test).data.cpu())\n",
    "    \n",
    "    accuracy = (test_preds.argmax(dim=1) == y_test).float().mean().data.cpu()\n",
    "    test_accuracy_history.append(accuracy)\n",
    "    \n",
    "    print(\"epoch\", epoch, accuracy)"
   ],
   "metadata": {
    "collapsed": false,
    "pycharm": {
     "name": "#%%\n",
     "is_executing": false
    }
   }
  },
  {
   "cell_type": "code",
   "execution_count": 61,
   "outputs": [],
   "source": [
    "#lenet5.forward(X_test)"
   ],
   "metadata": {
    "collapsed": false,
    "pycharm": {
     "name": "#%%\n",
     "is_executing": false
    }
   }
  },
  {
   "cell_type": "code",
   "execution_count": 13,
   "outputs": [
    {
     "data": {
      "text/plain": "[<matplotlib.lines.Line2D at 0x7f1417653bd0>]"
     },
     "metadata": {},
     "output_type": "execute_result",
     "execution_count": 13
    },
    {
     "data": {
      "text/plain": "<Figure size 432x288 with 1 Axes>",
      "image/png": "[encoded data removed]"
     },
     "metadata": {
      "needs_background": "light"
     },
     "output_type": "display_data"
    }
   ],
   "source": [
    "plt.plot(test_accuracy_history)\n",
    "#plt.plot(test_loss_history);"
   ],
   "metadata": {
    "collapsed": false,
    "pycharm": {
     "name": "#%%\n",
     "is_executing": false
    }
   }
  }
 ],
 "metadata": {
  "kernelspec": {
   "display_name": "Python 3",
   "language": "python",
   "name": "python3"
  },
  "language_info": {
   "codemirror_mode": {
    "name": "ipython",
    "version": 2
   },
   "file_extension": ".py",
   "mimetype": "text/x-python",
   "name": "python",
   "nbconvert_exporter": "python",
   "pygments_lexer": "ipython2",
   "version": "2.7.6"
  },
  "pycharm": {
   "stem_cell": {
    "cell_type": "raw",
    "source": [],
    "metadata": {
     "collapsed": false
    }
   }
  }
 },
 "nbformat": 4,
 "nbformat_minor": 0
}