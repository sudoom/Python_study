{
 "cells": [
  {
   "cell_type": "code",
   "execution_count": 3,
   "metadata": {
    "colab": {},
    "colab_type": "code",
    "id": "DWr6cvb9pS3J",
    "pycharm": {
     "is_executing": false
    }
   },
   "outputs": [],
   "source": [
    "import torch\n",
    "import random\n",
    "import numpy as np\n",
    "\n",
    "random.seed(0)\n",
    "np.random.seed(0)\n",
    "torch.manual_seed(0)\n",
    "torch.cuda.manual_seed(0)\n",
    "torch.backends.cudnn.deterministic = True"
   ]
  },
  {
   "cell_type": "code",
   "execution_count": 4,
   "metadata": {
    "colab": {},
    "colab_type": "code",
    "id": "MqGQWTDIpS3R",
    "pycharm": {
     "is_executing": false
    }
   },
   "outputs": [],
   "source": [
    "import torchvision.datasets\n",
    "MNIST_train = torchvision.datasets.MNIST('./', download=True, train=True)\n",
    "MNIST_test = torchvision.datasets.MNIST('./', download=True, train=False)"
   ]
  },
  {
   "cell_type": "code",
   "execution_count": 5,
   "metadata": {
    "colab": {},
    "colab_type": "code",
    "id": "vv_Lz7PYpS3U",
    "pycharm": {
     "is_executing": false
    }
   },
   "outputs": [
    {
     "name": "stderr",
     "text": [
      "/home/worker/anaconda3/lib/python3.7/site-packages/torchvision/datasets/mnist.py:53: UserWarning: train_data has been renamed data\n  warnings.warn(\"train_data has been renamed data\")\n/home/worker/anaconda3/lib/python3.7/site-packages/torchvision/datasets/mnist.py:43: UserWarning: train_labels has been renamed targets\n  warnings.warn(\"train_labels has been renamed targets\")\n/home/worker/anaconda3/lib/python3.7/site-packages/torchvision/datasets/mnist.py:58: UserWarning: test_data has been renamed data\n  warnings.warn(\"test_data has been renamed data\")\n/home/worker/anaconda3/lib/python3.7/site-packages/torchvision/datasets/mnist.py:48: UserWarning: test_labels has been renamed targets\n  warnings.warn(\"test_labels has been renamed targets\")\n"
     ],
     "output_type": "stream"
    }
   ],
   "source": [
    "X_train = MNIST_train.train_data\n",
    "y_train = MNIST_train.train_labels\n",
    "X_test = MNIST_test.test_data\n",
    "y_test = MNIST_test.test_labels"
   ]
  },
  {
   "cell_type": "code",
   "execution_count": 6,
   "metadata": {
    "colab": {
     "base_uri": "https://localhost:8080/",
     "height": 35
    },
    "colab_type": "code",
    "id": "hMhsAedlrQF5",
    "outputId": "ae08bd21-79ff-48da-9886-48996a178110",
    "pycharm": {
     "is_executing": false
    }
   },
   "outputs": [
    {
     "data": {
      "text/plain": "(torch.uint8, torch.int64)"
     },
     "metadata": {},
     "output_type": "execute_result",
     "execution_count": 6
    }
   ],
   "source": [
    "X_train.dtype, y_train.dtype"
   ]
  },
  {
   "cell_type": "code",
   "execution_count": 7,
   "metadata": {
    "colab": {},
    "colab_type": "code",
    "id": "_yTaVOrPvap6",
    "pycharm": {
     "is_executing": false
    }
   },
   "outputs": [],
   "source": [
    "X_train = X_train.float()\n",
    "X_test = X_test.float()"
   ]
  },
  {
   "cell_type": "code",
   "execution_count": 8,
   "metadata": {
    "colab": {
     "base_uri": "https://localhost:8080/",
     "height": 35
    },
    "colab_type": "code",
    "id": "_gfupg4kpS3X",
    "outputId": "e72c3ff4-50f7-4695-d5d5-f838e7ac2667",
    "pycharm": {
     "is_executing": false
    }
   },
   "outputs": [
    {
     "data": {
      "text/plain": "(torch.Size([60000, 28, 28]), torch.Size([10000, 28, 28]))"
     },
     "metadata": {},
     "output_type": "execute_result",
     "execution_count": 8
    }
   ],
   "source": [
    "X_train.shape, X_test.shape"
   ]
  },
  {
   "cell_type": "code",
   "execution_count": 9,
   "metadata": {
    "colab": {
     "base_uri": "https://localhost:8080/",
     "height": 35
    },
    "colab_type": "code",
    "id": "zEC1RXBEz_SW",
    "outputId": "48b9a605-2622-4188-b326-116b675bd499",
    "pycharm": {
     "is_executing": false
    }
   },
   "outputs": [
    {
     "data": {
      "text/plain": "(torch.Size([60000]), torch.Size([10000]))"
     },
     "metadata": {},
     "output_type": "execute_result",
     "execution_count": 9
    }
   ],
   "source": [
    "y_train.shape, y_test.shape"
   ]
  },
  {
   "cell_type": "code",
   "execution_count": 10,
   "metadata": {
    "colab": {
     "base_uri": "https://localhost:8080/",
     "height": 365
    },
    "colab_type": "code",
    "id": "Z1tFXMwJpS3e",
    "outputId": "e7c2778b-d6f5-4718-ea28-fc8544f0416c",
    "pycharm": {
     "is_executing": false
    }
   },
   "outputs": [
    {
     "data": {
      "text/plain": "<Figure size 640x480 with 1 Axes>"
     },
     "metadata": {},
     "output_type": "display_data"
    },
    {
     "name": "stdout",
     "text": [
      "tensor(5)\n"
     ],
     "output_type": "stream"
    }
   ],
   "source": [
    "import matplotlib.pyplot as plt\n",
    "plt.imshow(X_train[0, :, :])\n",
    "plt.show()\n",
    "print(y_train[0])"
   ]
  },
  {
   "cell_type": "code",
   "execution_count": 11,
   "metadata": {
    "colab": {},
    "colab_type": "code",
    "id": "IUZgNg7zpS3j",
    "pycharm": {
     "is_executing": false
    }
   },
   "outputs": [],
   "source": [
    "X_train = X_train.reshape([-1, 28 * 28])\n",
    "X_test = X_test.reshape([-1, 28 * 28])"
   ]
  },
  {
   "cell_type": "code",
   "execution_count": 35,
   "metadata": {
    "colab": {},
    "colab_type": "code",
    "id": "k7l65slppS3l",
    "pycharm": {
     "is_executing": false
    }
   },
   "outputs": [],
   "source": [
    "class MNISTNet(torch.nn.Module):\n",
    "    def __init__(self, n_hidden_neurons):\n",
    "        super(MNISTNet, self).__init__()\n",
    "        self.fc1 = torch.nn.Linear(28 * 28, n_hidden_neurons)\n",
    "        self.ac1 = torch.nn.Tanh()\n",
    "        self.fc2 = torch.nn.Linear(n_hidden_neurons, 10) \n",
    "    \n",
    "    def forward(self, x):\n",
    "        x = self.fc1(x)\n",
    "        x = self.ac1(x)\n",
    "        x = self.fc2(x)\n",
    "        return x\n",
    "    \n",
    "mnist_net = MNISTNet(100)"
   ]
  },
  {
   "cell_type": "code",
   "execution_count": 36,
   "metadata": {
    "colab": {},
    "colab_type": "code",
    "id": "FJp7t3dR0pC5",
    "pycharm": {
     "is_executing": false
    }
   },
   "outputs": [],
   "source": [
    "#torch.cuda.is_available()"
   ]
  },
  {
   "cell_type": "code",
   "execution_count": 37,
   "metadata": {
    "colab": {},
    "colab_type": "code",
    "id": "ShQDv_w-0rz8",
    "pycharm": {
     "is_executing": false
    }
   },
   "outputs": [],
   "source": [
    "#!nvidia-smi"
   ]
  },
  {
   "cell_type": "code",
   "execution_count": 38,
   "metadata": {
    "colab": {},
    "colab_type": "code",
    "id": "iUHy-780po9d",
    "pycharm": {
     "is_executing": false
    }
   },
   "outputs": [],
   "source": [
    "device = torch.device('cuda:0' if torch.cuda.is_available() else 'cpu')\n",
    "mnist_net = mnist_net.to(device)\n",
    "#list(mnist_net.parameters())"
   ]
  },
  {
   "cell_type": "code",
   "execution_count": 39,
   "metadata": {
    "colab": {},
    "colab_type": "code",
    "id": "00_2j2igpS3o",
    "pycharm": {
     "is_executing": false
    }
   },
   "outputs": [],
   "source": [
    "loss = torch.nn.CrossEntropyLoss()\n",
    "optimizer = torch.optim.Adam(mnist_net.parameters(), lr=1.0e-3)"
   ]
  },
  {
   "cell_type": "code",
   "execution_count": 40,
   "metadata": {
    "colab": {},
    "colab_type": "code",
    "id": "wZtqiGvfpS3r",
    "pycharm": {
     "is_executing": false
    }
   },
   "outputs": [
    {
     "name": "stdout",
     "text": [
      "epoch, 0 tensor(0.9018, device='cuda:0')\n",
      "epoch, 1 tensor(0.9141, device='cuda:0')\n",
      "epoch, 2 tensor(0.9218, device='cuda:0')\n",
      "epoch, 3 tensor(0.9235, device='cuda:0')\n",
      "epoch, 4 tensor(0.9311, device='cuda:0')\n",
      "epoch, 5 tensor(0.9255, device='cuda:0')\nepoch, 6 tensor(0.9319, device='cuda:0')\n",
      "epoch, 7 tensor(0.9300, device='cuda:0')\n",
      "epoch, 8 tensor(0.9365, device='cuda:0')\n",
      "epoch, 9 tensor(0.9317, device='cuda:0')\n",
      "epoch, 10 tensor(0.9334, device='cuda:0')\n",
      "epoch, 11 tensor(0.9370, device='cuda:0')\n",
      "epoch, 12 tensor(0.9344, device='cuda:0')\n",
      "epoch, 13 tensor(0.9355, device='cuda:0')\n",
      "epoch, 14 tensor(0.9368, device='cuda:0')\nepoch, 15 tensor(0.9385, device='cuda:0')\n",
      "epoch, 16 tensor(0.9367, device='cuda:0')\n",
      "epoch, 17 tensor(0.9364, device='cuda:0')\nepoch, 18 ",
      "tensor(0.9406, device='cuda:0')\n",
      "epoch, 19 tensor(0.9415, device='cuda:0')\n",
      "epoch, 20 tensor(0.9411, device='cuda:0')\n",
      "epoch, 21 tensor(0.9448, device='cuda:0')\n",
      "epoch, 22 tensor(0.9353, device='cuda:0')\n",
      "epoch, 23 tensor(0.9427, device='cuda:0')\n",
      "epoch, 24 tensor(0.9387, device='cuda:0')\n",
      "epoch, 25 tensor(0.9442, device='cuda:0')\n",
      "epoch, 26 tensor(0.9430, device='cuda:0')\n",
      "epoch, 27 tensor(0.9424, device='cuda:0')\nepoch, 28 tensor(0.9485, device='cuda:0')\n",
      "epoch, 29 tensor(0.9478, device='cuda:0')\n",
      "epoch, 30 tensor(0.9396, device='cuda:0')\n",
      "epoch, 31 tensor(0.9438, device='cuda:0')\n",
      "epoch, 32 tensor(0.9483, device='cuda:0')\n",
      "epoch, 33 tensor(0.9457, device='cuda:0')\n",
      "epoch, 34 tensor(0.9453, device='cuda:0')\n",
      "epoch, 35 tensor(0.9499, device='cuda:0')\n",
      "epoch, 36 tensor(0.9483, device='cuda:0')\nepoch, 37 tensor(0.9437, device='cuda:0')\n",
      "epoch, 38 tensor(0.9489, device='cuda:0')\n",
      "epoch, 39 tensor(0.9468, device='cuda:0')\n",
      "epoch, 40 tensor(0.9508, device='cuda:0')\n",
      "epoch, 41 tensor(0.9496, device='cuda:0')\n",
      "epoch, 42 tensor(0.9467, device='cuda:0')\n",
      "epoch, 43 tensor(0.9463, device='cuda:0')\n",
      "epoch, 44 tensor(0.9515, device='cuda:0')\n",
      "epoch, 45 tensor(0.9465, device='cuda:0')\n",
      "epoch, 46 tensor(0.9512, device='cuda:0')\n",
      "epoch, 47 tensor(0.9490, device='cuda:0')\n",
      "epoch, 48 tensor(0.9491, device='cuda:0')\n",
      "epoch, 49 tensor(0.9524, device='cuda:0')\n",
      "epoch, 50 tensor(0.9499, device='cuda:0')\n",
      "epoch, 51 tensor(0.9498, device='cuda:0')\n",
      "epoch, 52 tensor(0.9494, device='cuda:0')\n",
      "epoch, 53 tensor(0.9507, device='cuda:0')\n",
      "epoch, 54 tensor(0.9543, device='cuda:0')\n",
      "epoch, 55 tensor(0.9528, device='cuda:0')\n",
      "epoch, 56 tensor(0.9511, device='cuda:0')\n",
      "epoch, 57 tensor(0.9495, device='cuda:0')\n",
      "epoch, 58 tensor(0.9470, device='cuda:0')\n",
      "epoch, 59 tensor(0.9509, device='cuda:0')\n",
      "epoch, 60 tensor(0.9458, device='cuda:0')\n",
      "epoch, 61 tensor(0.9511, device='cuda:0')\n",
      "epoch, 62 tensor(0.9478, device='cuda:0')\n",
      "epoch, 63 tensor(0.9492, device='cuda:0')\n",
      "epoch, 64 tensor(0.9476, device='cuda:0')\n",
      "epoch, 65 tensor(0.9518, device='cuda:0')\n",
      "epoch, 66 tensor(0.9552, device='cuda:0')\n",
      "epoch, 67 tensor(0.9522, device='cuda:0')\n",
      "epoch, 68 tensor(0.9524, device='cuda:0')\n",
      "epoch, 69 tensor(0.9516, device='cuda:0')\n",
      "epoch, 70 tensor(0.9544, device='cuda:0')\n",
      "epoch, 71 tensor(0.9562, device='cuda:0')\n",
      "epoch, 72 tensor(0.9555, device='cuda:0')\n",
      "epoch, 73 tensor(0.9535, device='cuda:0')\n",
      "epoch, 74 tensor(0.9521, device='cuda:0')\n",
      "epoch, 75 tensor(0.9550, device='cuda:0')\n",
      "epoch, 76 tensor(0.9536, device='cuda:0')\n",
      "epoch, 77 tensor(0.9467, device='cuda:0')\nepoch, 78 tensor(0.9516, device='cuda:0')\n",
      "epoch, 79 tensor(0.9476, device='cuda:0')\n",
      "epoch, 80 tensor(0.9485, device='cuda:0')\n",
      "epoch, 81 tensor(0.9487, device='cuda:0')\n",
      "epoch, 82 tensor(0.9484, device='cuda:0')\n",
      "epoch, 83 tensor(0.9537, device='cuda:0')\n",
      "epoch, 84 tensor(0.9502, device='cuda:0')\n",
      "epoch, 85 tensor(0.9538, device='cuda:0')\n",
      "epoch, 86 tensor(0.9555, device='cuda:0')\n",
      "epoch, 87 tensor(0.9545, device='cuda:0')\n",
      "epoch, 88 tensor(0.9522, device='cuda:0')\n",
      "epoch, 89 tensor(0.9514, device='cuda:0')\n",
      "epoch, 90 tensor(0.9546, device='cuda:0')\n",
      "epoch, 91 tensor(0.9553, device='cuda:0')\n",
      "epoch, 92 tensor(0.9565, device='cuda:0')\n",
      "epoch, 93 tensor(0.9540, device='cuda:0')\n",
      "epoch, 94 tensor(0.9566, device='cuda:0')\nepoch, 95 tensor(0.9528, device='cuda:0')\n",
      "epoch, 96 tensor(0.9546, device='cuda:0')\nepoch, 97 ",
      "tensor(0.9520, device='cuda:0')\nepoch, 98 tensor(0.9517, device='cuda:0')\n",
      "epoch, 99 tensor(0.9508, device='cuda:0')\nepoch, 100 tensor(0.9573, device='cuda:0')\n",
      "epoch, 101 tensor(0.9537, device='cuda:0')\n",
      "epoch, 102 tensor(0.9552, device='cuda:0')\n",
      "epoch, 103 tensor(0.9580, device='cuda:0')\n",
      "epoch, 104 tensor(0.9508, device='cuda:0')\n",
      "epoch, 105 tensor(0.9555, device='cuda:0')\n",
      "epoch, 106 tensor(0.9552, device='cuda:0')\n",
      "epoch, 107 tensor(0.9535, device='cuda:0')\n",
      "epoch, 108 tensor(0.9593, device='cuda:0')\n",
      "epoch, 109 tensor(0.9571, device='cuda:0')\n",
      "epoch, 110 tensor(0.9573, device='cuda:0')\n",
      "epoch, 111 tensor(0.9570, device='cuda:0')\n",
      "epoch, 112 tensor(0.9562, device='cuda:0')\n",
      "epoch, 113 tensor(0.9603, device='cuda:0')\n",
      "epoch, 114 tensor(0.9577, device='cuda:0')\n",
      "epoch, 115 tensor(0.9583, device='cuda:0')\n",
      "epoch, 116 tensor(0.9550, device='cuda:0')\n",
      "epoch, 117 tensor(0.9524, device='cuda:0')\n",
      "epoch, 118 tensor(0.9553, device='cuda:0')\n",
      "epoch, 119 tensor(0.9570, device='cuda:0')\n",
      "epoch, 120 tensor(0.9578, device='cuda:0')\nepoch, 121 tensor(0.9571, device='cuda:0')\n",
      "epoch, 122 tensor(0.9565, device='cuda:0')\n",
      "epoch, 123 tensor(0.9578, device='cuda:0')\n",
      "epoch, 124 tensor(0.9576, device='cuda:0')\n",
      "epoch, 125 tensor(0.9627, device='cuda:0')\n",
      "epoch, 126 tensor(0.9580, device='cuda:0')\n",
      "epoch, 127 tensor(0.9551, device='cuda:0')\n",
      "epoch, 128 tensor(0.9520, device='cuda:0')\n",
      "epoch, 129 tensor(0.9561, device='cuda:0')\n",
      "epoch, 130 tensor(0.9547, device='cuda:0')\n",
      "epoch, 131 tensor(0.9507, device='cuda:0')\nepoch, 132 tensor(0.9527, device='cuda:0')\n",
      "epoch, 133 tensor(0.9510, device='cuda:0')\nepoch, 134 tensor(0.9554, device='cuda:0')\n",
      "epoch, 135 tensor(0.9518, device='cuda:0')\n",
      "epoch, 136 tensor(0.9539, device='cuda:0')\n",
      "epoch, 137 tensor(0.9569, device='cuda:0')\n",
      "epoch, 138 tensor(0.9539, device='cuda:0')\n",
      "epoch, 139 tensor(0.9538, device='cuda:0')\n",
      "epoch, 140 tensor(0.9550, device='cuda:0')\n",
      "epoch, 141 tensor(0.9537, device='cuda:0')\n",
      "epoch, 142 tensor(0.9557, device='cuda:0')\n",
      "epoch, 143 tensor(0.9582, device='cuda:0')\n",
      "epoch, 144 tensor(0.9568, device='cuda:0')\nepoch, ",
      "145 tensor(0.9566, device='cuda:0')\n",
      "epoch, 146 tensor(0.9563, device='cuda:0')\n",
      "epoch, 147 tensor(0.9563, device='cuda:0')\n",
      "epoch, 148 tensor(0.9541, device='cuda:0')\n",
      "epoch, 149 tensor(0.9579, device='cuda:0')\n",
      "epoch, 150 tensor(0.9557, device='cuda:0')\n",
      "epoch, 151 tensor(0.9584, device='cuda:0')\n",
      "epoch, 152 tensor(0.9576, device='cuda:0')\n",
      "epoch, 153 tensor(0.9594, device='cuda:0')\n",
      "epoch, 154 tensor(0.9567, device='cuda:0')\n",
      "epoch, 155 tensor(0.9573, device='cuda:0')\nepoch, 156 tensor(0.9549, device='cuda:0')\n",
      "epoch, 157 tensor(0.9563, device='cuda:0')\nepoch, 158 tensor(0.9579, device='cuda:0')\n",
      "epoch, 159 tensor(0.9562, device='cuda:0')\n",
      "epoch, 160 tensor(0.9590, device='cuda:0')\nepoch, 161 ",
      "tensor(0.9562, device='cuda:0')\n",
      "epoch, 162 tensor(0.9586, device='cuda:0')\n",
      "epoch, 163 tensor(0.9589, device='cuda:0')\n",
      "epoch, 164 tensor(0.9608, device='cuda:0')\n",
      "epoch, 165 tensor(0.9599, device='cuda:0')\n",
      "epoch, 166 tensor(0.9601, device='cuda:0')\n",
      "epoch, 167 tensor(0.9606, device='cuda:0')\n",
      "epoch, 168 tensor(0.9519, device='cuda:0')\n",
      "epoch, 169 tensor(0.9554, device='cuda:0')\n",
      "epoch, 170 tensor(0.9566, device='cuda:0')\nepoch, 171 tensor(0.9566, device='cuda:0')\n",
      "epoch, 172 tensor(0.9560, device='cuda:0')\n",
      "epoch, 173 tensor(0.9546, device='cuda:0')\n",
      "epoch, 174 tensor(0.9554, device='cuda:0')\n",
      "epoch, 175 tensor(0.9583, device='cuda:0')\n",
      "epoch, 176 tensor(0.9577, device='cuda:0')\n",
      "epoch, 177 tensor(0.9574, device='cuda:0')\n",
      "epoch, 178 tensor(0.9574, device='cuda:0')\n",
      "epoch, 179 tensor(0.9561, device='cuda:0')\nepoch, 180 tensor(0.9593, device='cuda:0')\n",
      "epoch, 181 tensor(0.9565, device='cuda:0')\nepoch, 182 tensor(0.9569, device='cuda:0')\n",
      "epoch, 183 tensor(0.9577, device='cuda:0')\n",
      "epoch, 184 tensor(0.9574, device='cuda:0')\n",
      "epoch, 185 tensor(0.9581, device='cuda:0')\n",
      "epoch, 186 tensor(0.9586, device='cuda:0')\n",
      "epoch, 187 tensor(0.9611, device='cuda:0')\n",
      "epoch, 188 tensor(0.9604, device='cuda:0')\n",
      "epoch, 189 tensor(0.9605, device='cuda:0')\n",
      "epoch, 190 tensor(0.9597, device='cuda:0')\nepoch, 191 tensor(0.9623, device='cuda:0')\n",
      "epoch, 192 tensor(0.9588, device='cuda:0')\nepoch, 193 tensor(0.9557, device='cuda:0')\n",
      "epoch, 194 tensor(0.9579, device='cuda:0')\n",
      "epoch, 195 tensor(0.9560, device='cuda:0')\n",
      "epoch, 196 tensor(0.9575, device='cuda:0')\n",
      "epoch, 197 tensor(0.9549, device='cuda:0')\n",
      "epoch, 198 tensor(0.9592, device='cuda:0')\n",
      "epoch, 199 tensor(0.9549, device='cuda:0')\n"
     ],
     "output_type": "stream"
    }
   ],
   "source": [
    "batch_size = 500\n",
    "\n",
    "test_accuracy_history = []\n",
    "test_loss_history = []\n",
    "\n",
    "X_test = X_test.to(device)\n",
    "y_test = y_test.to(device)\n",
    "\n",
    "for epoch in range(200):\n",
    "    order = np.random.permutation(len(X_train))\n",
    "    \n",
    "    for start_index in range(0, len(X_train), batch_size):\n",
    "        optimizer.zero_grad()\n",
    "        \n",
    "        batch_indexes = order[start_index:start_index+batch_size]\n",
    "        \n",
    "        X_batch = X_train[batch_indexes].to(device)\n",
    "        y_batch = y_train[batch_indexes].to(device)\n",
    "        \n",
    "        preds = mnist_net.forward(X_batch) \n",
    "        \n",
    "        loss_value = loss(preds, y_batch)\n",
    "        loss_value.backward()\n",
    "        \n",
    "        optimizer.step()\n",
    "\n",
    "    test_preds = mnist_net.forward(X_test)\n",
    "    test_loss_history.append(loss(test_preds, y_test))\n",
    "    \n",
    "    accuracy = (test_preds.argmax(dim=1) == y_test).float().mean()\n",
    "    test_accuracy_history.append(accuracy)\n",
    "    print(\"epoch,\", epoch, accuracy)"
   ]
  },
  {
   "cell_type": "code",
   "execution_count": 42,
   "metadata": {
    "colab": {},
    "colab_type": "code",
    "id": "kLnumX3SpS3u",
    "pycharm": {
     "is_executing": false
    }
   },
   "outputs": [
    {
     "data": {
      "text/plain": "[<matplotlib.lines.Line2D at 0x7f1cd68ba850>]"
     },
     "metadata": {},
     "output_type": "execute_result",
     "execution_count": 42
    },
    {
     "data": {
      "text/plain": "<Figure size 432x288 with 1 Axes>",
      "image/png": "[encoded data removed]"
     },
     "metadata": {
      "needs_background": "light"
     },
     "output_type": "display_data"
    }
   ],
   "source": [
    "plt.plot(test_accuracy_history)\n",
    "#plt.plot(test_loss_history);"
   ]
  },
  {
   "cell_type": "code",
   "execution_count": null,
   "metadata": {
    "colab": {},
    "colab_type": "code",
    "id": "-nu1318JpS3y",
    "pycharm": {
     "is_executing": false
    }
   },
   "outputs": [],
   "source": []
  }
 ],
 "metadata": {
  "accelerator": "GPU",
  "colab": {
   "collapsed_sections": [],
   "name": "Lesson 5 Digits Recognition Video.ipynb",
   "provenance": [],
   "version": "0.3.2"
  },
  "kernelspec": {
   "display_name": "Python 3",
   "language": "python",
   "name": "python3"
  },
  "language_info": {
   "codemirror_mode": {
    "name": "ipython",
    "version": 3
   },
   "file_extension": ".py",
   "mimetype": "text/x-python",
   "name": "python",
   "nbconvert_exporter": "python",
   "pygments_lexer": "ipython3",
   "version": "3.6.8"
  },
  "pycharm": {
   "stem_cell": {
    "cell_type": "raw",
    "source": [],
    "metadata": {
     "collapsed": false
    }
   }
  }
 },
 "nbformat": 4,
 "nbformat_minor": 1
}