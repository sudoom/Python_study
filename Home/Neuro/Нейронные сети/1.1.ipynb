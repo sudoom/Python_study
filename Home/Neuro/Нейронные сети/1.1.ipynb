{
 "cells": [
  {
   "cell_type": "code",
   "execution_count": 1,
   "metadata": {
    "collapsed": true,
    "pycharm": {
     "is_executing": false
    }
   },
   "outputs": [],
   "source": [
    "import numpy as np\n",
    "from urllib.request import urlopen"
   ]
  },
  {
   "cell_type": "code",
   "execution_count": 2,
   "outputs": [
    {
     "name": "stdout",
     "text": [
      "[[2. 1. 0. 0.]\n [0. 2. 1. 0.]\n [0. 0. 2. 1.]]\n"
     ],
     "output_type": "stream"
    }
   ],
   "source": [
    "mat = 2*np.eye(3,4) + np.eye(3,4,1)\n",
    "print(mat)"
   ],
   "metadata": {
    "collapsed": false,
    "pycharm": {
     "name": "#%%\n",
     "is_executing": false
    }
   }
  },
  {
   "cell_type": "code",
   "execution_count": 3,
   "outputs": [
    {
     "name": "stdout",
     "text": [
      "[[2.]\n [1.]\n [0.]\n [0.]\n [0.]\n [2.]\n [1.]\n [0.]\n [0.]\n [0.]\n [2.]\n [1.]]\n"
     ],
     "output_type": "stream"
    }
   ],
   "source": [
    "mat = mat.reshape((12,1))\n",
    "print(mat)"
   ],
   "metadata": {
    "collapsed": false,
    "pycharm": {
     "name": "#%%\n",
     "is_executing": false
    }
   }
  },
  {
   "cell_type": "code",
   "execution_count": 4,
   "outputs": [
    {
     "traceback": [
      "\u001b[0;31m---------------------------------------------------------------------------\u001b[0m",
      "\u001b[0;31mValueError\u001b[0m                                Traceback (most recent call last)",
      "\u001b[0;32m<ipython-input-4-a4c7fec63ab1>\u001b[0m in \u001b[0;36m<module>\u001b[0;34m\u001b[0m\n\u001b[1;32m      1\u001b[0m \u001b[0mx_shape\u001b[0m \u001b[0;34m=\u001b[0m \u001b[0mtuple\u001b[0m\u001b[0;34m(\u001b[0m\u001b[0mmap\u001b[0m\u001b[0;34m(\u001b[0m\u001b[0mint\u001b[0m\u001b[0;34m,\u001b[0m \u001b[0minput\u001b[0m\u001b[0;34m(\u001b[0m\u001b[0;34m)\u001b[0m\u001b[0;34m.\u001b[0m\u001b[0msplit\u001b[0m\u001b[0;34m(\u001b[0m\u001b[0;34m)\u001b[0m\u001b[0;34m)\u001b[0m\u001b[0;34m)\u001b[0m\u001b[0;34m\u001b[0m\u001b[0;34m\u001b[0m\u001b[0m\n\u001b[0;32m----> 2\u001b[0;31m \u001b[0mX\u001b[0m \u001b[0;34m=\u001b[0m \u001b[0mnp\u001b[0m\u001b[0;34m.\u001b[0m\u001b[0mfromiter\u001b[0m\u001b[0;34m(\u001b[0m\u001b[0mmap\u001b[0m\u001b[0;34m(\u001b[0m\u001b[0mint\u001b[0m\u001b[0;34m,\u001b[0m \u001b[0minput\u001b[0m\u001b[0;34m(\u001b[0m\u001b[0;34m)\u001b[0m\u001b[0;34m.\u001b[0m\u001b[0msplit\u001b[0m\u001b[0;34m(\u001b[0m\u001b[0;34m)\u001b[0m\u001b[0;34m)\u001b[0m\u001b[0;34m,\u001b[0m \u001b[0mnp\u001b[0m\u001b[0;34m.\u001b[0m\u001b[0mint\u001b[0m\u001b[0;34m)\u001b[0m\u001b[0;34m.\u001b[0m\u001b[0mreshape\u001b[0m\u001b[0;34m(\u001b[0m\u001b[0mx_shape\u001b[0m\u001b[0;34m)\u001b[0m\u001b[0;34m\u001b[0m\u001b[0;34m\u001b[0m\u001b[0m\n\u001b[0m\u001b[1;32m      3\u001b[0m \u001b[0my_shape\u001b[0m \u001b[0;34m=\u001b[0m \u001b[0mtuple\u001b[0m\u001b[0;34m(\u001b[0m\u001b[0mmap\u001b[0m\u001b[0;34m(\u001b[0m\u001b[0mint\u001b[0m\u001b[0;34m,\u001b[0m \u001b[0minput\u001b[0m\u001b[0;34m(\u001b[0m\u001b[0;34m)\u001b[0m\u001b[0;34m.\u001b[0m\u001b[0msplit\u001b[0m\u001b[0;34m(\u001b[0m\u001b[0;34m)\u001b[0m\u001b[0;34m)\u001b[0m\u001b[0;34m)\u001b[0m\u001b[0;34m\u001b[0m\u001b[0;34m\u001b[0m\u001b[0m\n\u001b[1;32m      4\u001b[0m \u001b[0mY\u001b[0m \u001b[0;34m=\u001b[0m \u001b[0mnp\u001b[0m\u001b[0;34m.\u001b[0m\u001b[0mfromiter\u001b[0m\u001b[0;34m(\u001b[0m\u001b[0mmap\u001b[0m\u001b[0;34m(\u001b[0m\u001b[0mint\u001b[0m\u001b[0;34m,\u001b[0m \u001b[0minput\u001b[0m\u001b[0;34m(\u001b[0m\u001b[0;34m)\u001b[0m\u001b[0;34m.\u001b[0m\u001b[0msplit\u001b[0m\u001b[0;34m(\u001b[0m\u001b[0;34m)\u001b[0m\u001b[0;34m)\u001b[0m\u001b[0;34m,\u001b[0m \u001b[0mnp\u001b[0m\u001b[0;34m.\u001b[0m\u001b[0mint\u001b[0m\u001b[0;34m)\u001b[0m\u001b[0;34m.\u001b[0m\u001b[0mreshape\u001b[0m\u001b[0;34m(\u001b[0m\u001b[0my_shape\u001b[0m\u001b[0;34m)\u001b[0m\u001b[0;34m\u001b[0m\u001b[0;34m\u001b[0m\u001b[0m\n\u001b[1;32m      5\u001b[0m \u001b[0;32mif\u001b[0m \u001b[0mx_shape\u001b[0m\u001b[0;34m[\u001b[0m\u001b[0;34m-\u001b[0m\u001b[0;36m1\u001b[0m\u001b[0;34m]\u001b[0m\u001b[0;34m!=\u001b[0m \u001b[0my_shape\u001b[0m\u001b[0;34m[\u001b[0m\u001b[0;34m-\u001b[0m\u001b[0;36m1\u001b[0m\u001b[0;34m]\u001b[0m\u001b[0;34m:\u001b[0m\u001b[0;34m\u001b[0m\u001b[0;34m\u001b[0m\u001b[0m\n",
      "\u001b[0;31mValueError\u001b[0m: cannot reshape array of size 0 into shape ()"
     ],
     "ename": "ValueError",
     "evalue": "cannot reshape array of size 0 into shape ()",
     "output_type": "error"
    }
   ],
   "source": [
    "x_shape = tuple(map(int, input().split()))\n",
    "X = np.fromiter(map(int, input().split()), np.int).reshape(x_shape)\n",
    "y_shape = tuple(map(int, input().split()))\n",
    "Y = np.fromiter(map(int, input().split()), np.int).reshape(y_shape)\n",
    "if x_shape[-1]!= y_shape[-1]:\n",
    "    print(\"matrix shapes do not match\")\n",
    "else:\n",
    "    Y = Y.transpose()\n",
    "    print(X.dot(Y))"
   ],
   "metadata": {
    "collapsed": false,
    "pycharm": {
     "name": "#%%\n",
     "is_executing": false
    }
   }
  },
  {
   "cell_type": "code",
   "execution_count": 5,
   "outputs": [
    {
     "name": "stdout",
     "text": [
      "[22.53280632  3.61352356 11.36363636  0.06916996  0.55469506  6.28463439\n  3.79504269]\n"
     ],
     "output_type": "stream"
    }
   ],
   "source": [
    "f = urlopen('https://stepic.org/media/attachments/lesson/16462/boston_houses.csv')\n",
    "z = np.loadtxt(f, skiprows=1, delimiter=\",\")\n",
    "k = np.loadtxt(\"boston_houses.csv\", skiprows=1, delimiter=\",\")\n",
    "v = z.mean(axis=0)\n",
    "print(v)"
   ],
   "metadata": {
    "collapsed": false,
    "pycharm": {
     "name": "#%%\n",
     "is_executing": false
    }
   }
  },
  {
   "cell_type": "code",
   "execution_count": 7,
   "outputs": [],
   "source": [
    "u = np.array([[1.,60.],[1.,50.],[1.,75.]])\n",
    "a = np.array([10.,7.,12.])\n",
    "ui = u.T @ u\n",
    "d = np.linalg.inv(ui)\n",
    "c = d @ u.T\n",
    "j = c @ a.T"
   ],
   "metadata": {
    "collapsed": false,
    "pycharm": {
     "name": "#%%\n",
     "is_executing": false
    }
   }
  },
  {
   "cell_type": "code",
   "execution_count": 22,
   "outputs": [
    {
     "name": "stdout",
     "text": [
      "-3.655804285049271 -0.21639550236914573 0.07373059817549987 4.412450576913194 -25.468448784106613 7.14320155074488 -1.301087677649349\n"
     ],
     "output_type": "stream"
    }
   ],
   "source": [
    "#fname = input() \n",
    "f = urlopen('https://stepic.org/media/attachments/lesson/16462/boston_houses.csv')\n",
    "z = np.loadtxt(f, skiprows=1, delimiter=\",\")\n",
    "t = np.copy(z)\n",
    "firs = t[:,0]\n",
    "z[:,0] = 1\n",
    "xtx = z.T @ z\n",
    "xtx_inv = np.linalg.inv(xtx)\n",
    "xty = z.T @ firs\n",
    "b = xtx_inv @ xty\n",
    "print(*b)"
   ],
   "metadata": {
    "collapsed": false,
    "pycharm": {
     "name": "#%%\n",
     "is_executing": false
    }
   }
  },
  {
   "cell_type": "code",
   "execution_count": 2,
   "outputs": [
    {
     "name": "stdout",
     "text": [
      "d tanh(0)=1.9637041848504344\nd sigm(0)=0.25\n\ntanh(-x)=0.0\n1−tanh(x)= 1.0\n\nsigm(-x)=0.5\n−sigm(x)=-0.5\n\nsigm(-x)=0.5\n1-sigm(x)=0.5\n\ntanh(-x)=0.0\n-tanh(x)=-0.0\n"
     ],
     "output_type": "stream"
    }
   ],
   "source": [
    "from math import exp\n",
    "#Функция гиперболического тангенса\n",
    "def tanh(x):\n",
    "    return ((exp(x)-exp(x*-1))/(exp(x)+exp(x*-1)))\n",
    "\n",
    "#Сигмоидальная функция\n",
    "def sigm(x):\n",
    "    return 1/(1+(exp(x*-1)))\n",
    "\n",
    "#Производная гиперболического тангенса\n",
    "def dtanh(x):\n",
    "    return ( (1-exp(x-2))**2    *    (-(exp(x-2)+1))**2 ) +1\n",
    "\n",
    "#Производная сигмоидальной функции\n",
    "def dsigm(x):\n",
    "    return ( exp(-x)/(exp(-x)+1)**2 )\n",
    "\n",
    "\n",
    "#Принт вариантов ответов по почереди подбирая Х\n",
    "\n",
    "x=0\n",
    "\n",
    "#1. производная tanh в точке 0 и производная σ в точке 0\n",
    "print (f'd tanh({x})={dtanh(x)}\\nd sigm({x})={dsigm(x)}')\n",
    "\n",
    "#2. tanh(−x)=1−tanh(x) для любого x\n",
    "print (f'\\ntanh(-x)={tanh(-x)}')\n",
    "print ('1−tanh(x)=',(1-tanh(x)))\n",
    "\n",
    "#3 σ(−x)=−σ(x) для любого x (сигмоидальная функция нечётна)\n",
    "print (f'\\nsigm(-x)={sigm(-x)}\\n−sigm(x)={-sigm(x)}')\n",
    "\n",
    "#4. σ(−x)=1−σ(x) для любого x\n",
    "print (f'\\nsigm(-x)={sigm(-x)}\\n1-sigm(x)={1-sigm(x)}')\n",
    "\n",
    "#5 tanh(−x)=−tanh(x) для любого x (гиперболический тангенс нечётен)\n",
    "print (f'\\ntanh(-x)={tanh(-x)}\\n-tanh(x)={-tanh(x)}')"
   ],
   "metadata": {
    "collapsed": false,
    "pycharm": {
     "name": "#%%\n",
     "is_executing": false
    }
   }
  }
 ],
 "metadata": {
  "kernelspec": {
   "name": "python3",
   "language": "python",
   "display_name": "Python 3"
  },
  "language_info": {
   "codemirror_mode": {
    "name": "ipython",
    "version": 2
   },
   "file_extension": ".py",
   "mimetype": "text/x-python",
   "name": "python",
   "nbconvert_exporter": "python",
   "pygments_lexer": "ipython2",
   "version": "2.7.6"
  },
  "pycharm": {
   "stem_cell": {
    "cell_type": "raw",
    "source": [],
    "metadata": {
     "collapsed": false
    }
   }
  }
 },
 "nbformat": 4,
 "nbformat_minor": 0
}