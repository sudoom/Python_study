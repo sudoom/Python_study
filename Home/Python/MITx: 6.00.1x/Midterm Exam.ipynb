{
 "cells": [
  {
   "cell_type": "markdown",
   "source": [
    "## Problem 1 ##\n",
    "\n",
    "### Problem 1-1\n",
    "\n",
    "Suppose `x = \"pi\"` and `y = \"pie\"`. The line of code `x, y = y, x` will swap the values of `x` and `y`,\n",
    "resulting in `x = \"pie\"` and `y = \"pi\"`.\n",
    "* True\n",
    "* False\n",
    "\n",
    "### Problem 1-2 ###\n",
    "\n",
    "Suppose `x` is an integer in the following code:\n",
    "```python\n",
    "def f(x):\n",
    "    while x > 3:\n",
    "        f(x+1)\n",
    "```\n",
    "For any value of `x`, all calls to `t` are guaranteed to never terminate.\n",
    "* True\n",
    "* False\n",
    "\n",
    "### Problem 1-3 ###\n",
    "\n",
    "A Python program always executes every line of code written at least once.\n",
    "* True\n",
    "* False\n",
    "\n",
    "### Problem 1-4 ###\n",
    "\n",
    "Suppose you have two different functions that each assign a variable called `x`. Modifying `x` in one function means\n",
    "you always modify `x` in the other function for any `x`.\n",
    "* True\n",
    "* False\n",
    "\n",
    "### Problem 1-5 ###\n",
    "\n",
    "The following code will enter an infinite loop for all values of `i` and `j`.\n",
    "```python\n",
    "while i >= 0:\n",
    "    while j >= 0:\n",
    "        print(i, j)\n",
    "```\n",
    "* True\n",
    "* False\n",
    "\n",
    "### Problem 1-6 ###\n",
    "\n",
    "It is always possible and feasible for a programmer to come up with test cases that run through every possible path in a program.\n",
    "* True\n",
    "* False\n",
    "\n",
    "### Problem 1-7 ###\n",
    "\n",
    "Assume `f()` is defined. In the statement `a = f()`, `a` is always a function.\n",
    "* True\n",
    "* False\n",
    "\n",
    "### Problem 1-8 ###\n",
    "\n",
    "A program that keeps running and does not stop is an example of a syntax error.\n",
    "* True\n",
    "* False\n",
    "\n",
    "### Problem 1-9 ###\n",
    "\n",
    "Consider the following function.\n",
    "```python\n",
    "def f(x):\n",
    "    a = []\n",
    "    while x > 0:\n",
    "        a.append(x)\n",
    "        f(x-1)\n",
    "```\n",
    "A new object of type list is created for each recursive invocation of `f`.\n",
    "* True\n",
    "* False\n",
    "\n",
    "### Problem 1-10 ###\n",
    "\n",
    "A tuple can contain a list as an element.\n",
    "* True\n",
    "* False"
   ],
   "metadata": {
    "collapsed": false,
    "pycharm": {
     "name": "#%% md\n"
    }
   }
  },
  {
   "cell_type": "markdown",
   "source": [
    "## Problem 2 ##\n",
    "\n",
    "### Problem 2-1 ###\n",
    "\n",
    "Consider the statement: `L = {'1':1, '2':2, '3':3}`. Which is correct?\n",
    "* L is a list\n",
    "* L is immutable\n",
    "* L contains 6 elements\n",
    "* L has integer keys\n",
    "* L maps strings to integers\n",
    "\n",
    "### Problem 2-2 ###\n",
    "\n",
    "Assume a `break` statement is executed inside a loop and that the loop is inside a function. Which of the following is correct?\n",
    "* The program might immediately terminate.\n",
    "* The function might immediately terminate.\n",
    "* The loop will always immediately terminate.\n",
    "* All of the above.\n",
    "* None of the above.\n",
    "\n",
    "### Problem 2-3 ###\n",
    "\n",
    "In Python, which of the following is a mutable object?\n",
    "* a string\n",
    "* a tuple\n",
    "* a list\n",
    "* all of the above\n",
    "* none of the above\n",
    "\n",
    "### Problem 2-4 ###\n",
    "\n",
    "Assume the statement `s[1024] = 3` does not produce an error message. This implies:\n",
    "* `type(s)` can be `str`\n",
    "* `type(s)` can be `tuple`\n",
    "* `type(s)` can be `list`\n",
    "* All of the above\n",
    "\n",
    "### Problem 2-5 ###\n",
    "\n",
    "Consider the code:\n",
    "```python\n",
    "L = [1,2,3]\n",
    "d = {'a': 'b'}\n",
    "def f(x):\n",
    "    return 3\n",
    "```\n",
    "Which of the following does NOT cause an exception to be thrown?\n",
    "* `print(L[3])`\n",
    "* `print(d['b'])`\n",
    "\n",
    "* ```python\n",
    "for i in range(1000001, -1, -2):\n",
    "    print(f)\n",
    "  ```\n",
    "* `print(int('abc'))`\n",
    "* None of the above\n",
    "\n",
    "### Problem 2-6 ###\n",
    "\n",
    "Examine the following code snippet:\n",
    "```python\n",
    "stuff  = _____\n",
    "for thing in stuff:\n",
    "    if thing == 'iQ':\n",
    "       print(\"Found it\")\n",
    "```\n",
    "Select all the values of the variable \"stuff\" that will make the code print \"Found it\".\n",
    "* `[\"iBoy\", \"iGirl\", \"iQ\", \"iC\",\"iPaid\",\"iPad\"]`\n",
    "* `(\"iBoy\", \"iGirl\", \"iQ\", \"iC\",\"iPaid\",\"iPad\")`\n",
    "* `[ ( \"iBoy\", \"iGirl\", \"iQ\", \"iC\",\"iPaid\",\"iPad\") ]`\n",
    "* `( [ \"iBoy\", \"iGirl\", \"iQ\", \"iC\",\"iPaid\",\"iPad\" ], )`\n",
    "* `[\"iQ\"]`\n",
    "* `\"iQ\"\n",
    "`\n",
    "### Problem 2-7 ###\n",
    "\n",
    "The following Python code is supposed to compute the square of an integer by using successive additions.\n",
    "```python\n",
    "def Square(x):\n",
    "    return SquareHelper(abs(x), abs(x))\n",
    "\n",
    "def SquareHelper(n, x):\n",
    "    if n == 0:\n",
    "        return 0\n",
    "    return SquareHelper(n-1, x) + x\n",
    "```\n",
    "Not considering recursion depth limitations, what is wrong with this implementation of procedure `Square`? Check all that apply.\n",
    "* It is going to return a wrong value.\n",
    "* The term Square is a reserved Python keyword.\n",
    "* Function names cannot start with a capital letter.\n",
    "* The function is never going to return anything.\n",
    "* Python has arbitrary precision arithmetic.\n",
    "* This function will not work for negative numbers.\n",
    "* The call `SquareHelper(abs(x), abs(x))` won't work because you can't have `abs(x)` as both parameters.\n",
    "* Nothing is wrong; the code is fine as-is."
   ],
   "metadata": {
    "collapsed": false,
    "pycharm": {
     "name": "#%% md\n"
    }
   }
  },
  {
   "cell_type": "markdown",
   "metadata": {
    "collapsed": true,
    "pycharm": {
     "is_executing": false,
     "name": "#%% md\n"
    }
   },
   "source": [
    "## Problem 3 ##\n",
    "\n",
    "Answer the following question without running the code. The procedure `isMyNumber` is used to hide a secret number (integer).\n",
    "It takes an integer `x` as a parameter and compares it to the secret number. It returns:\n",
    "* -1 if the parameter `x` is less than the secret number\n",
    "* 0 if the parameter `x` is correct\n",
    "* 1 if the parameter `x` is greater than the secret number\n",
    "\n",
    "The following procedure, `jumpAndBackPedal`, attempts to guess a secret number. The only way it can interact with the secret\n",
    "number is through the `isMyNumber` procedure explained above.\n",
    "```python\n",
    "def jumpAndBackpedal(isMyNumber):\n",
    "    '''\n",
    "    isMyNumber: Procedure that hides a secret number. \n",
    "     It takes as a parameter one number and returns:\n",
    "     *  -1 if the number is less than the secret number\n",
    "     *  0 if the number is equal to the secret number\n",
    "     *  1 if the number is greater than the secret number\n",
    " \n",
    "    returns: integer, the secret number\n",
    "    ''' \n",
    "    guess = 1\n",
    "    if isMyNumber(guess) == 1:\n",
    "        return guess\n",
    "    foundNumber = False\n",
    "    while not foundNumber:\n",
    "        sign = isMyNumber(guess)\n",
    "        if sign == -1:\n",
    "            guess *= 2\n",
    "        else:\n",
    "            guess -= 1\n",
    "    return guess\n",
    "```\n",
    "Unfortunately, the implementation given does not correctly return the secret number. \n",
    "Please fix the errors in the code such that jumpAndBackpedal correctly returns the secret number."
   ]
  },
  {
   "cell_type": "code",
   "execution_count": 84,
   "metadata": {
    "pycharm": {
     "is_executing": false,
     "name": "#%%\n"
    }
   },
   "outputs": [
    {
     "ename": "KeyboardInterrupt",
     "evalue": "",
     "output_type": "error",
     "traceback": [
      "\u001b[0;31m---------------------------------------------------------------------------\u001b[0m",
      "\u001b[0;31mKeyboardInterrupt\u001b[0m                         Traceback (most recent call last)",
      "\u001b[0;32m<ipython-input-84-fb54807ef5ea>\u001b[0m in \u001b[0;36m<module>\u001b[0;34m\u001b[0m\n\u001b[1;32m     30\u001b[0m \u001b[0;34m\u001b[0m\u001b[0m\n\u001b[1;32m     31\u001b[0m \u001b[0;31m#print(isMyNumber(2))\u001b[0m\u001b[0;34m\u001b[0m\u001b[0;34m\u001b[0m\u001b[0;34m\u001b[0m\u001b[0m\n\u001b[0;32m---> 32\u001b[0;31m \u001b[0mprint\u001b[0m\u001b[0;34m(\u001b[0m\u001b[0mjumpAndBackpedal\u001b[0m\u001b[0;34m(\u001b[0m\u001b[0misMyNumber\u001b[0m\u001b[0;34m)\u001b[0m\u001b[0;34m)\u001b[0m\u001b[0;34m\u001b[0m\u001b[0;34m\u001b[0m\u001b[0m\n\u001b[0m\u001b[1;32m     33\u001b[0m \u001b[0;34m\u001b[0m\u001b[0m\n\u001b[1;32m     34\u001b[0m \u001b[0;34m\u001b[0m\u001b[0m\n",
      "\u001b[0;32m<ipython-input-84-fb54807ef5ea>\u001b[0m in \u001b[0;36mjumpAndBackpedal\u001b[0;34m(isMyNumber)\u001b[0m\n\u001b[1;32m     26\u001b[0m             \u001b[0mguess\u001b[0m \u001b[0;34m*=\u001b[0m \u001b[0;36m2\u001b[0m\u001b[0;34m\u001b[0m\u001b[0;34m\u001b[0m\u001b[0m\n\u001b[1;32m     27\u001b[0m         \u001b[0;32melse\u001b[0m\u001b[0;34m:\u001b[0m\u001b[0;34m\u001b[0m\u001b[0;34m\u001b[0m\u001b[0m\n\u001b[0;32m---> 28\u001b[0;31m             \u001b[0mguess\u001b[0m \u001b[0;34m-=\u001b[0m \u001b[0;36m1\u001b[0m\u001b[0;34m\u001b[0m\u001b[0;34m\u001b[0m\u001b[0m\n\u001b[0m\u001b[1;32m     29\u001b[0m     \u001b[0;32mreturn\u001b[0m \u001b[0mguess\u001b[0m\u001b[0;34m\u001b[0m\u001b[0;34m\u001b[0m\u001b[0m\n\u001b[1;32m     30\u001b[0m \u001b[0;34m\u001b[0m\u001b[0m\n",
      "\u001b[0;31mKeyboardInterrupt\u001b[0m: "
     ]
    }
   ],
   "source": [
    "def jumpAndBackpedal(isMyNumber):\n",
    "    \"\"\"\n",
    "    isMyNumber: Procedure that hides a secret number. \n",
    "     It takes as a parameter one number and returns:\n",
    "     *  -1 if the number is less than the secret number\n",
    "     *  0 if the number is equal to the secret number\n",
    "     *  1 if the number is greater than the secret number\n",
    " \n",
    "    returns: integer, the secret number\n",
    "    \"\"\" \n",
    "    guess = 14\n",
    "    while isMyNumber(guess) != 0:\n",
    "        if isMyNumber(guess) == 1:\n",
    "            guess -= 1\n",
    "        else:\n",
    "            guess += 1\n",
    "    return guess"
   ]
  },
  {
   "cell_type": "markdown",
   "metadata": {
    "pycharm": {
     "name": "#%% md\n"
    }
   },
   "source": [
    "## Problem 4 ##\n",
    "\n",
    "Write a Python function that returns the sublist of strings in `aList` that contain fewer than 4 characters.\n",
    "For example, if `aList = [\"apple\", \"cat\", \"dog\", \"banana\"]`, your function should return: `[\"cat\", \"dog\"]`\n",
    "\n",
    "This function takes in a list of strings and returns a list of strings. Your function should not modify `aList`.\n",
    "```python\n",
    "def lessThan4(aList):\n",
    "    '''\n",
    "    aList: a list of strings\n",
    "    '''\n",
    "    # Your code here\n",
    "```"
   ]
  },
  {
   "cell_type": "code",
   "execution_count": 28,
   "metadata": {
    "pycharm": {
     "is_executing": false,
     "name": "#%%\n"
    }
   },
   "outputs": [
    {
     "name": "stdout",
     "output_type": "stream",
     "text": [
      "['cat', 'dog']\n"
     ]
    }
   ],
   "source": [
    "def lessThan4(aList):\n",
    "    \"\"\"\n",
    "    :param aList: a list of strings\n",
    "    :return: List than contains fewer than 4 char\n",
    "    \"\"\"\n",
    "    newList = []\n",
    "    for elem in aList:\n",
    "        if len(elem) < 4:\n",
    "            newList.append(elem)\n",
    "    return newList"
   ]
  },
  {
   "cell_type": "markdown",
   "metadata": {
    "pycharm": {
     "name": "#%% md\n"
    }
   },
   "source": [
    "## Problem 5 ##\n",
    "\n",
    "Write a Python function that returns a list of keys in `aDict` with the value `target`. \n",
    "The list of keys you return should be sorted in increasing order. The keys and values in `aDict` are both integers. \n",
    "(If `aDict` does not contain the value `target`, you should return an empty list.)\n",
    "\n",
    "This function takes in a dictionary and an integer and returns a list.\n",
    "```python\n",
    "def keysWithValue(aDict, target):\n",
    "    '''\n",
    "    aDict: a dictionary\n",
    "    target: an integer\n",
    "    '''\n",
    "    # Your code here  \n",
    "```"
   ]
  },
  {
   "cell_type": "code",
   "execution_count": 56,
   "metadata": {
    "pycharm": {
     "is_executing": false,
     "name": "#%%\n"
    }
   },
   "outputs": [
    {
     "name": "stdout",
     "output_type": "stream",
     "text": [
      "[]\n"
     ]
    }
   ],
   "source": [
    "def keysWithValue(aDict, target):\n",
    "    \"\"\"\n",
    "    aDict: a dictionary\n",
    "    target: an integer\n",
    "    \"\"\"\n",
    "    keysList =[]\n",
    "    for i in aDict.items():\n",
    "        if i[1] == target:\n",
    "            keysList.append(i[0])\n",
    "    keysList.sort()\n",
    "    return keysList"
   ]
  },
  {
   "cell_type": "markdown",
   "metadata": {
    "pycharm": {
     "name": "#%% md\n"
    }
   },
   "source": [
    "## Problem 6 ##\n",
    "\n",
    "Write a function called `gcd` that calculates the greatest common divisor of two positive integers. \n",
    "The gcd of two or more integers, when at least one of them is not zero,\n",
    "is the largest positive integer that divides the numbers without a remainder.\n",
    "\n",
    "One way is recursively, where the greatest common denominator of `a` and `b` can be calculated as\n",
    "`gcd(a, b) = gcd(b, a mod b)`. Hint: remember the mod symbol is % in Python. Do not import anything.\n",
    "\n",
    "For example, the greatest common divisor (gcd) between `a = 20` and `b = 12` is:\n",
    "`gcd(20,12)` is the same as `gcd(12, 20 mod 12) = gcd(12,8)`\n",
    "`gcd(12,8)` is the same as `gcd(8, 12 mod 8) = gcd(8,4)`\n",
    "`gcd(8,4)` is the same as `gcd(4, 8 mod 4) = gcd(4,0)`\n",
    "The gcd is found (and the gcd is equal to `a`) when we reach 0 for `b`.\n",
    "```python\n",
    "def gcd(a, b):\n",
    "    \"\"\"\n",
    "    a, b: two positive integers\n",
    "    Returns the greatest common divisor of a and b\n",
    "    \"\"\"\n",
    "    #YOUR CODE HERE\n",
    "```\n",
    "Paste your entire function, including the definition, in the box below. Do not leave any print statements."
   ]
  },
  {
   "cell_type": "code",
   "execution_count": 59,
   "metadata": {
    "pycharm": {
     "is_executing": false,
     "name": "#%%\n"
    }
   },
   "outputs": [
    {
     "name": "stdout",
     "output_type": "stream",
     "text": [
      "12\n"
     ]
    }
   ],
   "source": [
    "def gcd(a, b):\n",
    "    \"\"\"\n",
    "    a, b: two positive integers\n",
    "    Returns the greatest common divisor of a and b\n",
    "    \"\"\"\n",
    "    if b == 0:\n",
    "        return a\n",
    "    else:\n",
    "        return gcd(b, a%b)"
   ]
  },
  {
   "cell_type": "markdown",
   "metadata": {
    "pycharm": {
     "name": "#%% md\n"
    }
   },
   "source": [
    "## Problem 7 ##\n",
    "\n",
    "Write a Python function called `satisfiesF` that has the specification below.\n",
    "Then make the function call `run_satisfiesF(L, satisfiesF)`. Your code should look like:\n",
    "```python\n",
    "def satisfiesF(L):\n",
    "    \"\"\"\n",
    "    Assumes L is a list of strings\n",
    "    Assume function f is already defined for you and it maps a string to a Boolean\n",
    "    Mutates L such that it contains all of the strings, s, originally in L such\n",
    "            that f(s) returns True, and no other elements. Remaining elements in L\n",
    "            should be in the same order.\n",
    "    Returns the length of L after mutation\n",
    "    \"\"\"\n",
    "    # Your function implementation here\n",
    "\n",
    "run_satisfiesF(L, satisfiesF)\n",
    "```\n",
    "For your own testing of `satisfiesF`, for example, see the following test function `f` and test code:\n",
    "```python\n",
    "def f(s):\n",
    "    return 'a' in s\n",
    "      \n",
    "L = ['a', 'b', 'a']\n",
    "print(satisfiesF(L))\n",
    "print(L)\n",
    "```\n",
    "Should print:\n",
    "```python\n",
    "2\n",
    "['a', 'a']\n",
    "```\n",
    "Paste your entire function `satisfiesF`, including the definition, in the box below. \n",
    "**After you define your function, make a function call to `run_satisfiesF(L, satisfiesF)`. \n",
    "Do not define `f` or `run_satisfiesF`.**\n",
    "Do not leave any debugging print statements.\n",
    "\n",
    "**For this question, you will not be able to see the test cases we run. \n",
    "This problem will test your ability to come up with your own test cases.**"
   ]
  },
  {
   "cell_type": "code",
   "execution_count": 74,
   "metadata": {
    "pycharm": {
     "is_executing": false,
     "name": "#%%\n"
    }
   },
   "outputs": [
    {
     "name": "stdout",
     "output_type": "stream",
     "text": [
      "2\n",
      "['a', 'a']\n"
     ]
    }
   ],
   "source": [
    "def satisfiesF(L):\n",
    "    \"\"\"\n",
    "    Assumes L is a list of strings\n",
    "    Assume function f is already defined for you and it maps a string to a Boolean\n",
    "    Mutates L such that it contains all of the strings, s, originally in L such\n",
    "            that f(s) returns True, and no other elements. Remaining elements in L\n",
    "            should be in the same order.\n",
    "    Returns the length of L after mutation\n",
    "    \"\"\"\n",
    "    newList = list(map(f, L))\n",
    "    cp_L = L[:]\n",
    "    for i in cp_L:\n",
    "        for j in newList:\n",
    "            if j:\n",
    "                newList.remove(j)\n",
    "                break\n",
    "            else:\n",
    "                L.remove(i)\n",
    "                newList.remove(j)\n",
    "                break\n",
    "    return len(L)\n",
    "run_satisfiesF(L, satisfiesF)"
   ]
  }
 ],
 "metadata": {
  "kernelspec": {
   "display_name": "Python 3",
   "language": "python",
   "name": "python3"
  },
  "language_info": {
   "codemirror_mode": {
    "name": "ipython",
    "version": 3
   },
   "file_extension": ".py",
   "mimetype": "text/x-python",
   "name": "python",
   "nbconvert_exporter": "python",
   "pygments_lexer": "ipython3",
   "version": "3.7.4"
  },
  "pycharm": {
   "stem_cell": {
    "cell_type": "raw",
    "source": [],
    "metadata": {
     "collapsed": false
    }
   }
  }
 },
 "nbformat": 4,
 "nbformat_minor": 1
}