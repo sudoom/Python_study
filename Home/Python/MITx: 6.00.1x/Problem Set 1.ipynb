{
 "cells": [
  {
   "cell_type": "markdown",
   "metadata": {
    "pycharm": {
     "is_executing": false,
     "name": "#%% md\n"
    }
   },
   "source": [
    "## Problem 1 ##\n",
    "Assume `s` is a string of lower case characters.\n",
    "Write a program that counts up the number of vowels contained in the string `s`. \n",
    "Valid vowels are: `'a'`, `'e'`, `'i'`, `'o'`, and `'u'`. For example, if `s = 'azcbobobegghakl'`, \n",
    "your program should print:\n",
    "\n",
    "    Number of vowels: 5"
   ]
  },
  {
   "cell_type": "code",
   "execution_count": 5,
   "outputs": [
    {
     "name": "stdout",
     "text": [
      "Number of vowels: 5\n"
     ],
     "output_type": "stream"
    }
   ],
   "source": [
    "k = 0\n",
    "for i in s:\n",
    "    if i in 'aeiou':\n",
    "        k += 1      \n",
    "print(\"Number of vowels:\", k)"
   ],
   "metadata": {
    "collapsed": false,
    "pycharm": {
     "name": "#%%\n",
     "is_executing": false
    }
   }
  },
  {
   "cell_type": "markdown",
   "source": [
    "## Problem 2 ##\n",
    "Assume `s` is a string of lower case characters.\n",
    "Write a program that prints the number of times the string `'bob'` occurs in `s`. \n",
    "For example, if `s = 'azcbobobegghakl'`, then your program should print\n",
    "\n",
    "    Number of times bob occurs is: 2"
   ],
   "metadata": {
    "collapsed": false,
    "pycharm": {
     "name": "#%% md\n"
    }
   }
  },
  {
   "cell_type": "code",
   "execution_count": 6,
   "metadata": {
    "pycharm": {
     "is_executing": false,
     "name": "#%%\n"
    }
   },
   "outputs": [
    {
     "name": "stdout",
     "text": [
      "Number of times bob occurs is: 2\n"
     ],
     "output_type": "stream"
    }
   ],
   "source": [
    "count = 0\n",
    "i = -1\n",
    "while True:\n",
    "    i = s.find(\"bob\",i+1)\n",
    "    if i == -1:\n",
    "        break\n",
    "    count += 1\n",
    "print(\"Number of times bob occurs is:\", count)"
   ]
  },
  {
   "cell_type": "markdown",
   "source": [
    "## Problem 3 ##\n",
    "Assume `s` is a string of lower case characters.\n",
    "Write a program that prints the longest substring of `s` in which the letters occur in alphabetical order. \n",
    "For example, if `s = 'azcbobobegghakl'`, then your program should print\n",
    "\n",
    "    Longest substring in alphabetical order is: beggh\n",
    "In the case of ties, print the first substring. For example, if `s = 'abcbcd'`, then your program should print\n",
    "\n",
    "    Longest substring in alphabetical order is: abc"
   ],
   "metadata": {
    "collapsed": false,
    "pycharm": {
     "name": "#%% md\n"
    }
   }
  },
  {
   "cell_type": "code",
   "execution_count": 7,
   "metadata": {
    "pycharm": {
     "is_executing": false,
     "name": "#%%\n"
    }
   },
   "outputs": [
    {
     "name": "stdout",
     "text": [
      "Longest substring in alphabetical order is: beggh\n"
     ],
     "output_type": "stream"
    }
   ],
   "source": [
    "x = s[0]\n",
    "for i in range(len(s)-1):\n",
    "    if s[i+1]>s[i] or s[i+1]==s[i]:\n",
    "        x = x+s[i+1]\n",
    "    elif s[i+1]<s[i]:\n",
    "        x = x+\" \"+s[i+1]\n",
    "k = x.split(\" \")\n",
    "print(\"Longest substring in alphabetical order is:\", max(k,key=len))"
   ]
  }
 ],
 "metadata": {
  "kernelspec": {
   "display_name": "Python 3",
   "language": "python",
   "name": "python3"
  },
  "language_info": {
   "codemirror_mode": {
    "name": "ipython",
    "version": 3
   },
   "file_extension": ".py",
   "mimetype": "text/x-python",
   "name": "python",
   "nbconvert_exporter": "python",
   "pygments_lexer": "ipython3",
   "version": "3.7.4"
  },
  "pycharm": {
   "stem_cell": {
    "cell_type": "raw",
    "source": [],
    "metadata": {
     "collapsed": false
    }
   }
  }
 },
 "nbformat": 4,
 "nbformat_minor": 1
}