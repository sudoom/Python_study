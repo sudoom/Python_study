{
 "cells": [
  {
   "cell_type": "markdown",
   "metadata": {
    "collapsed": true,
    "pycharm": {
     "name": "#%% md\n"
    }
   },
   "source": [
    "## Problem 1 ##\n",
    "Write a program to calculate the credit card balance after one year if a person only pays the minimum monthly \n",
    "payment required by the credit card company each month.\n",
    "\n",
    "The following variables contain values as described below:\n",
    "\n",
    "1. `balance` - the outstanding balance on the credit card\n",
    "\n",
    "2. `annualInterestRate` - annual interest rate as a decimal\n",
    "\n",
    "3. `monthlyPaymentRate` - minimum monthly payment rate as a decimal\n",
    "\n",
    "For each month, calculate statements on the monthly payment and remaining balance. \n",
    "At the end of 12 months, print out the remaining balance. \n",
    "Be sure to print out no more than two decimal digits of accuracy - so print\n",
    "```\n",
    "Remaining balance: 813.41\n",
    "```\n",
    "instead of\n",
    "```\n",
    "Remaining balance: 813.4141998135 \n",
    "```\n",
    "So your program only prints out one thing: the remaining balance at the end of the year in the format:\n",
    "```\n",
    "Remaining balance: 4784.0\n",
    "```\n",
    "A summary of the required math is found below:\n",
    "\n",
    "* **Monthly interest rate**= (Annual interest rate) / 12.0\n",
    "* **Minimum monthly payment** = (Minimum monthly payment rate) x (Previous balance)\n",
    "* **Monthly unpaid balance** = (Previous balance) - (Minimum monthly payment)\n",
    "* **Updated balance each month** = (Monthly unpaid balance) + (Monthly interest rate x Monthly unpaid balance)\n",
    "\n",
    "We provide sample test cases below. We suggest you develop your code on your own machine,\n",
    "and make sure your code passes the sample test cases, before you paste it into the box below.\n",
    "```\n",
    "      Test Case :\n",
    "\t      balance = 484\n",
    "\t      annualInterestRate = 0.2\n",
    "\t      monthlyPaymentRate = 0.04\n",
    "\t      \n",
    "\t      Result Your Code Should Generate Below:\n",
    "\t      Remaining balance: 361.61\n",
    "```"
   ]
  },
  {
   "cell_type": "code",
   "execution_count": 1,
   "metadata": {
    "pycharm": {
     "is_executing": false,
     "name": "#%%\n"
    }
   },
   "outputs": [
    {
     "name": "stdout",
     "output_type": "stream",
     "text": [
      "Remaining balance: 361.61\n"
     ]
    }
   ],
   "source": [
    "for month in range(year):\n",
    "    minimalPayment = balance*monthlyPaymentRate\n",
    "    unpaidBalance = balance-minimalPayment\n",
    "    interest = annualInterestRate/12*unpaidBalance\n",
    "    balance = unpaidBalance+interest\n",
    "print(\"Remaining balance:\",round(balance, 2))"
   ]
  },
  {
   "cell_type": "markdown",
   "metadata": {},
   "source": [
    "## Problem 2 ##\n",
    "Now write a program that calculates the minimum **fixed** monthly payment needed in order pay off a credit card balance within 12 months. By a fixed monthly payment, we mean a single number which does not change each month, but instead is a constant amount that will be paid each month.\n",
    "\n",
    "In this problem, we will not be dealing with a minimum monthly payment rate.\n",
    "\n",
    "The following variables contain values as described below:\n",
    "\n",
    "1. `balance` - the outstanding balance on the credit card\n",
    "\n",
    "1. `annualInterestRate` - annual interest rate as a decimal\n",
    "\n",
    "The program should print out one line: the lowest monthly payment that will pay off all debt in under 1 year, for example:\n",
    "```\n",
    "Lowest Payment: 180 \n",
    "```\n",
    "Assume that the interest is compounded monthly according to the balance at the end of the month (after the payment for that month is made). The monthly payment must be a multiple of $10 and is the same for all months. Notice that it is possible for the balance to become negative using this payment scheme, which is okay. A summary of the required math is found below:\n",
    "\n",
    "* **Monthly interest rate** = (Annual interest rate) / 12.0\n",
    "* **Monthly unpaid balance** = (Previous balance) - (Minimum fixed monthly payment)\n",
    "* **Updated balance each month** = (Monthly unpaid balance) + (Monthly interest rate x Monthly unpaid balance)\n",
    "```\n",
    "\t      Test Case:\n",
    "\t      balance = 3329\n",
    "\t      annualInterestRate = 0.2\n",
    "\n",
    "\t      Result Your Code Should Generate:\n",
    "\t      -------------------\n",
    "\t      Lowest Payment: 310\n",
    "```"
   ]
  },
  {
   "cell_type": "code",
   "execution_count": 13,
   "metadata": {
    "pycharm": {
     "is_executing": false,
     "name": "#%%\n"
    }
   },
   "outputs": [
    {
     "name": "stdout",
     "output_type": "stream",
     "text": [
      "Lowest Payment: 360\n"
     ]
    }
   ],
   "source": [
    "updateBalance = balance\n",
    "year = 12\n",
    "monthlyInterestRate = annualInterestRate/year\n",
    "minimalPayment = 10\n",
    "while updateBalance:\n",
    "    for month in range(year):\n",
    "        monthlyUnpaidBalance = updateBalance - minimalPayment\n",
    "        updateBalance = monthlyUnpaidBalance + monthlyInterestRate*monthlyUnpaidBalance\n",
    "    if updateBalance > 0:\n",
    "        updateBalance = balance\n",
    "    else:\n",
    "        break\n",
    "    minimalPayment += 10\n",
    "print(minimalPayment)"
   ]
  },
  {
   "cell_type": "markdown",
   "metadata": {},
   "source": [
    "## Problem 3 ##\n",
    "You'll notice that in Problem 2, your monthly payment had to be a multiple of `$10`. Why did we make it that way? You can try running your code locally so that the payment can be any dollar and cent amount (in other words, the monthly payment is a multiple of `$0.01`). Does your code still work? It should, but you may notice that your code runs more slowly, especially in cases with very large balances and interest rates. (Note: when your code is running on our servers, there are limits on the amount of computing time each submission is allowed, so your observations from running this experiment on the grading system might be limited to an error message complaining about too much time taken.)\n",
    "\n",
    "Well then, how can we calculate a more accurate fixed monthly payment than we did in Problem 2 without running into the problem of slow code? We can make this program run faster using a technique introduced in lecture - bisection search!\n",
    "\n",
    "The following variables contain values as described below:\n",
    "\n",
    "1. `balance` - the outstanding balance on the credit card\n",
    "\n",
    "2. `annualInterestRate` - annual interest rate as a decimal\n",
    "\n",
    "To recap the problem: we are searching for the smallest monthly payment such that we can pay off the entire balance within a year. What is a reasonable **lower bound** for this payment value? $0 is the obvious answer, but you can do better than that. If there was no interest, the debt can be paid off by monthly payments of one-twelfth of the original balance, so we must pay at least this much every month. One-twelfth of the original balance is a good lower bound.\n",
    "\n",
    "What is a good **upper bound**? Imagine that instead of paying monthly, we paid off the entire balance at the end of the year. What we ultimately pay must be greater than what we would've paid in monthly installments, because the interest was compounded on the balance we didn't pay off each month. So a good upper bound for the monthly payment would be one-twelfth of the balance, after having its interest compounded monthly for an entire year.\n",
    "\n",
    "In short:\n",
    "\n",
    "* **Monthly interest rate** = (Annual interest rate) / 12.0\n",
    "* **Monthly payment lower bound** = Balance / 12\n",
    "* **Monthly payment upper bound** = (Balance x (1 + Monthly interest rate)^12) / 12.0\n",
    "\n",
    "Write a program that uses these bounds and bisection search (for more info check out the [Wikipedia page on bisection search](https://en.wikipedia.org/wiki/Bisection_method)) to find the smallest monthly payment to the cent (no more multiples of $10) such that we can pay off the debt within a year. Try it out with large inputs, and notice how fast it is (try the same large inputs in your solution to Problem 2 to compare!). Produce the same return value as you did in Problem 2.\n",
    "\n",
    "Note that if you do not use bisection search, your code will not run - your code only has 30 seconds to run on our servers.\n",
    "```\n",
    "\t      Test Case:\n",
    "\t      balance = 999999\n",
    "\t      annualInterestRate = 0.18\n",
    "\t      \n",
    "\t      Result Your Code Should Generate:\n",
    "\t      -------------------\n",
    "\t      Lowest Payment: 90325.03\n",
    "\t  \n",
    "```"
   ]
  },
  {
   "cell_type": "code",
   "execution_count": 26,
   "metadata": {
    "pycharm": {
     "is_executing": false,
     "name": "#%%\n"
    }
   },
   "outputs": [
    {
     "name": "stdout",
     "output_type": "stream",
     "text": [
      "Lowest Payment: 90325.02\n"
     ]
    }
   ],
   "source": [
    "epsilon = 0.075\n",
    "updateBalance = balance\n",
    "year = 12\n",
    "monthlyInterestRate = annualInterestRate/year\n",
    "lowPayment = updateBalance / year\n",
    "highPayment = updateBalance*((1+monthlyInterestRate)**12)/12.0\n",
    "minimalPayment = round((lowPayment + highPayment)/2.0, 2)\n",
    "while abs(updateBalance)>=epsilon:\n",
    "    for month in range(year):\n",
    "        monthlyUnpaidBalance = updateBalance - minimalPayment\n",
    "        updateBalance = monthlyUnpaidBalance + monthlyInterestRate*monthlyUnpaidBalance\n",
    "    if updateBalance > epsilon:\n",
    "        lowPayment = round((lowPayment + highPayment)/2.0,2)\n",
    "        minimalPayment = round((lowPayment + highPayment)/2.0,2)\n",
    "        updateBalance = balance\n",
    "    if updateBalance < -epsilon:\n",
    "        highPayment = round((lowPayment + highPayment)/2.0,2)\n",
    "        minimalPayment = round((lowPayment + highPayment)/2.0,2)\n",
    "        updateBalance = balance\n",
    "print(\"Lowest Payment:\",minimalPayment)"
   ]
  }
 ],
 "metadata": {
  "kernelspec": {
   "display_name": "Python 3",
   "language": "python",
   "name": "python3"
  },
  "language_info": {
   "codemirror_mode": {
    "name": "ipython",
    "version": 3
   },
   "file_extension": ".py",
   "mimetype": "text/x-python",
   "name": "python",
   "nbconvert_exporter": "python",
   "pygments_lexer": "ipython3",
   "version": "3.7.4"
  },
  "pycharm": {
   "stem_cell": {
    "cell_type": "raw",
    "source": [],
    "metadata": {
     "collapsed": false
    }
   }
  }
 },
 "nbformat": 4,
 "nbformat_minor": 1
}