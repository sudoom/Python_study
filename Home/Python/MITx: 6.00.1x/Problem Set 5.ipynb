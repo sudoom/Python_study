{
 "cells": [
  {
   "cell_type": "markdown",
   "metadata": {
    "collapsed": true,
    "pycharm": {
     "name": "#%% md\n"
    }
   },
   "source": [
    "## Problem 1 - Build the Shift Dictionary and Apply Shift ##\n",
    "\n",
    "The `Message` class contains methods that could be used to apply a cipher to a string, either to encrypt or to decrypt a message (since for Caesar codes this is the same action).\n",
    "\n",
    "In the next two questions, you will fill in the methods of the `Message` class found in `ps6.py` according to the specifications in the docstrings. The methods in the `Message` class already filled in are:\n",
    "\n",
    "* `__init__(self, text)`\n",
    "* The getter `method get_message_text(self)`\n",
    "* The getter method `get_valid_words(self)`, notice that this one returns a copy of `self.valid_words` to prevent someone from mutating the original list.\n",
    "\n",
    "In this problem, you will fill in two methods:\n",
    "\n",
    "1. Fill in the `build_shift_dict(self, shift)` method of the `Message` class. Be sure that your dictionary includes both lower and upper case letters, but that the shifted character for a lower case letter and its uppercase version are lower and upper case instances of the same letter. What this means is that if the original letter is \"a\" and its shifted value is \"c\", the letter \"A\" should shift to the letter \"C\".\n",
    "\n",
    "    If you are unfamiliar with the ordering or characters of the English alphabet, we will be following the letter ordering displayed by `string.ascii_lowercase` and `string.ascii_uppercase`:\n",
    "\n",
    "    ```\n",
    "    >>> import string\n",
    "    >>> print(string.ascii_lowercase)\n",
    "    abcdefghijklmnopqrstuvwxyz\n",
    "    >>> print(string.ascii_uppercase)\n",
    "    ABCDEFGHIJKLMNOPQRSTUVWXYZ\n",
    "    ```\n",
    "    A reminder from the introduction page - characters such as the space character, commas, periods, exclamation points, etc will *not* be encrypted by this cipher - basically, all the characters within `string.punctuation`, plus the space (`' '`) and all numerical characters (0 - 9) found in `string.digits`.\n",
    "\n",
    "2. Fill in the `apply_shift(self, shift)` method of the `Message` class. You may find it easier to use `build_shift_dict(self, shift)`. Remember that spaces and punctuation should not be changed by the cipher.\n",
    "\n",
    "Paste your implementation of the `Message` class in the box below."
   ]
  },
  {
   "cell_type": "code",
   "execution_count": null,
   "outputs": [],
   "source": [
    "class Message(object):\n",
    "    ### DO NOT MODIFY THIS METHOD ###\n",
    "    def __init__(self, text):\n",
    "        \"\"\"\n",
    "        Initializes a Message object\n",
    "\n",
    "        text (string): the message's text\n",
    "\n",
    "        a Message object has two attributes:\n",
    "            self.message_text (string, determined by input text)\n",
    "            self.valid_words (list, determined using helper function load_words\n",
    "        \"\"\"\n",
    "        self.message_text = text\n",
    "        self.valid_words = load_words(WORDLIST_FILENAME)\n",
    "\n",
    "    ### DO NOT MODIFY THIS METHOD ###\n",
    "    def get_message_text(self):\n",
    "        \"\"\"\n",
    "        Used to safely access self.message_text outside of the class\n",
    "\n",
    "        Returns: self.message_text\n",
    "        \"\"\"\n",
    "        return self.message_text\n",
    "\n",
    "    ### DO NOT MODIFY THIS METHOD ###\n",
    "    def get_valid_words(self):\n",
    "        \"\"\"\n",
    "        Used to safely access a copy of self.valid_words outside of the class\n",
    "\n",
    "        Returns: a COPY of self.valid_words\n",
    "        \"\"\"\n",
    "        return self.valid_words[:]\n",
    "\n",
    "    def build_shift_dict(self, shift):\n",
    "        \"\"\"\n",
    "        Creates a dictionary that can be used to apply a cipher to a letter.\n",
    "        The dictionary maps every uppercase and lowercase letter to a\n",
    "        character shifted down the alphabet by the input shift. The dictionary\n",
    "        should have 52 keys of all the uppercase letters and all the lowercase\n",
    "        letters only.\n",
    "\n",
    "        shift (integer): the amount by which to shift every letter of the\n",
    "        alphabet. 0 <= shift < 26\n",
    "\n",
    "        Returns: a dictionary mapping a letter (string) to\n",
    "                 another letter (string).\n",
    "        \"\"\"\n",
    "        new_let = string.ascii_lowercase[shift:] + string.ascii_lowercase[:shift]\n",
    "        new_dict = dict(zip(\n",
    "            list(string.ascii_lowercase + string.ascii_lowercase.upper()),\n",
    "            list(new_let + new_let.upper())))\n",
    "        return new_dict\n",
    "\n",
    "    def apply_shift(self, shift):\n",
    "        \"\"\"\n",
    "        Applies the Caesar Cipher to self.message_text with the input shift.\n",
    "        Creates a new string that is self.message_text shifted down the\n",
    "        alphabet by some number of characters determined by the input shift\n",
    "\n",
    "        shift (integer): the shift with which to encrypt the message.\n",
    "        0 <= shift < 26\n",
    "\n",
    "        Returns: the message text (string) in which every character is shifted\n",
    "             down the alphabet by the input shift\n",
    "        \"\"\"\n",
    "        new_text = \"\"\n",
    "        for i in self.get_message_text():\n",
    "            for j in self.build_shift_dict(shift).items():\n",
    "                if i == j[0]:\n",
    "                    new_text += j[1]\n",
    "                    break\n",
    "            else:\n",
    "                new_text += i\n",
    "        self.message_text = new_text\n",
    "        return self.message_text"
   ],
   "metadata": {
    "collapsed": false,
    "pycharm": {
     "name": "#%%\n"
    }
   }
  },
  {
   "cell_type": "markdown",
   "source": [
    "## Problem 2 - PlaintextMessage ##\n",
    "\n",
    "For this problem, the graders will use our implementation of the `Message` class, so don't worry if you did not get the previous parts correct.\n",
    "\n",
    "`PlaintextMessage` is a subclass of `Message` and has methods to encode a string using a specified shift value. Our class will always create an encoded version of the message, and will have methods for changing the encoding.\n",
    "\n",
    "Implement the methods in the class `PlaintextMessage` according to the specifications in ps6.py. The methods you should fill in are:\n",
    "\n",
    "* `__init__(self, text, shift)`: Use the parent class constructor to make your code more concise.\n",
    "* The getter method `get_shift(self)`\n",
    "* The getter method `get_encrypting_dict(self)`: This should return a COPY of self.encrypting_dict to prevent someone from mutating the original dictionary.\n",
    "* The getter method `get_message_text_encrypted(self)`\n",
    "* `change_shift(self, shift)`: Think about what other methods you can use to make this easier. It shouldn’t take more than a couple lines of code.\n",
    "\n",
    "Paste your implementation of the entire `PlaintextMessage` class in the box below."
   ],
   "metadata": {
    "collapsed": false
   }
  },
  {
   "cell_type": "code",
   "execution_count": null,
   "outputs": [],
   "source": [
    "class PlaintextMessage(Message):\n",
    "    def __init__(self, text, shift):\n",
    "        \"\"\"\n",
    "        Initializes a PlaintextMessage object\n",
    "\n",
    "        text (string): the message's text\n",
    "        shift (integer): the shift associated with this message\n",
    "\n",
    "        A PlaintextMessage object inherits from Message and has five attributes:\n",
    "            self.message_text (string, determined by input text)\n",
    "            self.valid_words (list, determined using helper function load_words)\n",
    "            self.shift (integer, determined by input shift)\n",
    "            self.encrypting_dict (dictionary, built using shift)\n",
    "            self.message_text_encrypted (string, created using shift)\n",
    "\n",
    "        Hint: consider using the parent class constructor so less\n",
    "        code is repeated\n",
    "        \"\"\"\n",
    "        self.message_text = text\n",
    "        self.valid_words = load_words(WORDLIST_FILENAME)\n",
    "        self.shift = shift\n",
    "        self.encrypting_dict = self.build_shift_dict(shift)\n",
    "        self.message_text_encrypted = self.apply_shift(shift)\n",
    "\n",
    "\n",
    "    def get_shift(self):\n",
    "        \"\"\"\n",
    "        Used to safely access self.shift outside of the class\n",
    "\n",
    "        Returns: self.shift\n",
    "        \"\"\"\n",
    "        return self.shift\n",
    "\n",
    "\n",
    "    def get_encrypting_dict(self):\n",
    "        \"\"\"\n",
    "        Used to safely access a copy self.encrypting_dict outside of the class\n",
    "\n",
    "        Returns: a COPY of self.encrypting_dict\n",
    "        \"\"\"\n",
    "        return self.encrypting_dict.copy()\n",
    "\n",
    "    def get_message_text_encrypted(self):\n",
    "        \"\"\"\n",
    "        Used to safely access self.message_text_encrypted outside of the class\n",
    "\n",
    "        Returns: self.message_text_encrypted\n",
    "        \"\"\"\n",
    "        return self.message_text_encrypted\n",
    "\n",
    "    def change_shift(self, shift):\n",
    "        \"\"\"\n",
    "        Changes self.shift of the PlaintextMessage and updates other\n",
    "        attributes determined by shift (ie. self.encrypting_dict and\n",
    "        message_text_encrypted).\n",
    "\n",
    "        shift (integer): the new shift that should be associated with this message.\n",
    "        0 <= shift < 26\n",
    "\n",
    "        Returns: nothing\n",
    "        \"\"\"\n",
    "        #del self.shift\n",
    "        self.shift = shift\n",
    "        self.encrypting_dict = self.build_shift_dict(shift)\n",
    "        self.message_text_encrypted = self.apply_shift(shift)"
   ],
   "metadata": {
    "collapsed": false,
    "pycharm": {
     "name": "#%%\n"
    }
   }
  },
  {
   "cell_type": "markdown",
   "source": [
    "## Problem 3 - CiphertextMessage ##\n",
    "\n",
    "For this problem, the graders will use our implementation of the `Message` and `PlaintextMessage` classes, so don't worry if you did not get the previous parts correct.\n",
    "\n",
    "Given an encrypted message, if you know the shift used to encode the message, decoding it is trivial. If `message` is the encrypted message, and `s` is the shift used to encrypt the message, then `apply_shift(26-s)` on a message gives you the original plaintext message. Do you see why?\n",
    "\n",
    "The problem, of course, is that you don’t know the shift. But our encryption method only has 26 distinct possible values for the shift! We know English is the main language of these emails, so if we can write a program that tries each shift and maximizes the number of English words in the decoded message, we can decrypt their cipher! A simple indication of whether or not the correct shift has been found is if most of the words obtained after a shift are valid words. Note that this only means that most of the words obtained are actual words. It is possible to have a message that can be decoded by two separate shifts into different sets of words. While there are various strategies for deciding between ambiguous decryptions, for this problem we are only looking for a simple solution.\n",
    "\n",
    "Fill in the methods in the class `CiphertextMessage` acording to the specifications in ps6.py. The methods you should fill in are:\n",
    "\n",
    "* `__init__(self, text)`: Use the parent class constructor to make your code more concise.\n",
    "* `decrypt_message(self)`: You may find the helper function `is_word(wordlist, word)` and the string [method `split()`](https://docs.python.org/3/library/stdtypes.html#str.split) useful. Note that `is_word` will ignore punctuation and other special characters when considering whether a word is valid.\n",
    "\n",
    "### Hints ###\n",
    "\n",
    "You may find the function `string.split` useful for dividing the text up into words.\n",
    "```\n",
    ">>> 'Hello world!'.split('o')\n",
    "['Hell', ' w', 'rld!']\n",
    ">>> '6.00.1x is pretty fun'.split(' ')\n",
    "['6.00.1x', 'is', 'pretty', 'fun']\n",
    "```\n",
    "Paste your implementation of the entire CiphertextMessage class in the box below."
   ],
   "metadata": {
    "collapsed": false
   }
  },
  {
   "cell_type": "code",
   "execution_count": null,
   "outputs": [],
   "source": [
    "class CiphertextMessage(Message):\n",
    "    def __init__(self, text):\n",
    "        \"\"\"\n",
    "        Initializes a CiphertextMessage object\n",
    "\n",
    "        text (string): the message's text\n",
    "\n",
    "        a CiphertextMessage object has two attributes: self.message_text (\n",
    "        string, determined by input text) self.valid_words (list, determined\n",
    "        using helper function load_words)\n",
    "        \"\"\"\n",
    "        self.message_text = text\n",
    "        self.valid_words = load_words(WORDLIST_FILENAME)\n",
    "\n",
    "    def decrypt_message(self):\n",
    "        \"\"\"\n",
    "        Decrypt self.message_text by trying every possible shift value\n",
    "        and find the \"best\" one. We will define \"best\" as the shift that\n",
    "        creates the maximum number of real words when we use apply_shift(shift)\n",
    "        on the message text. If s is the original shift value used to encrypt\n",
    "        the message, then we would expect 26 - s to be the best shift value\n",
    "        for decrypting it.\n",
    "\n",
    "        Note: if multiple shifts are equally good such that they all create\n",
    "        the maximum number of you may choose any of those shifts (and their\n",
    "        corresponding decrypted messages) to return\n",
    "\n",
    "        Returns: a tuple of the best shift value used to decrypt the\n",
    "        message, and the decrypted message text using that shift value\n",
    "        \"\"\"\n",
    "        cnt = 0\n",
    "        shift = 0\n",
    "        for i in range(26):\n",
    "            self.build_shift_dict(i)\n",
    "            self.apply_shift(i)\n",
    "            wc = 0\n",
    "            for j in self.apply_shift(i).split(\" \"):\n",
    "                if j in self.valid_words:\n",
    "                    wc += 1\n",
    "            if wc > cnt:\n",
    "                cnt = wc\n",
    "                shift = i\n",
    "        return shift, self.apply_shift(shift)"
   ],
   "metadata": {
    "collapsed": false,
    "pycharm": {
     "name": "#%%\n"
    }
   }
  },
  {
   "cell_type": "markdown",
   "source": [
    "## Problem 4 - Decrypt a Story ##\n",
    "\n",
    "For this problem, the graders will use our implementation of the `Message`, `PlaintextMessage`, and `CiphertextMessage` classes, so don't worry if you did not get the previous parts correct.\n",
    "\n",
    "Now that you have all the pieces to the puzzle, please use them to decode the file story.txt. The file ps6.py contains a helper function `get_story_string()` that returns the encrypted version of the story as a string. Create a `CiphertextMessage` object using the story string and use `decrypt_message` to return the appropriate shift value and unencrypted story string.\n",
    "\n",
    "Paste your function `decrypt_story()` in the box below."
   ],
   "metadata": {
    "collapsed": false
   }
  },
  {
   "cell_type": "code",
   "execution_count": null,
   "outputs": [],
   "source": [
    "story = CiphertextMessage(get_story_string())\n",
    "def decrypt_story():\n",
    "    return story.decrypt_message()"
   ],
   "metadata": {
    "collapsed": false,
    "pycharm": {
     "name": "#%%\n"
    }
   }
  }
 ],
 "metadata": {
  "kernelspec": {
   "display_name": "Python 3",
   "language": "python",
   "name": "python3"
  },
  "language_info": {
   "codemirror_mode": {
    "name": "ipython",
    "version": 2
   },
   "file_extension": ".py",
   "mimetype": "text/x-python",
   "name": "python",
   "nbconvert_exporter": "python",
   "pygments_lexer": "ipython2",
   "version": "2.7.6"
  },
  "pycharm": {
   "stem_cell": {
    "cell_type": "raw",
    "source": [],
    "metadata": {
     "collapsed": false
    }
   }
  }
 },
 "nbformat": 4,
 "nbformat_minor": 0
}