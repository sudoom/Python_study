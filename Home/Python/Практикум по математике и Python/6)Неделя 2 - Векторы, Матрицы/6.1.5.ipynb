{
 "cells": [
  {
   "cell_type": "code",
   "execution_count": 38,
   "metadata": {
    "collapsed": true,
    "pycharm": {
     "is_executing": false
    }
   },
   "outputs": [],
   "source": [
    "import numpy as np"
   ]
  },
  {
   "cell_type": "code",
   "execution_count": 46,
   "outputs": [],
   "source": [
    "def line(x):\n",
    "    return round(np.sin((x*np.pi)/6), 2)\n",
    "\n",
    "def col(x):\n",
    "    return round(np.e**x, 2)"
   ],
   "metadata": {
    "collapsed": false,
    "pycharm": {
     "name": "#%%\n",
     "is_executing": false
    }
   }
  },
  {
   "cell_type": "code",
   "execution_count": 45,
   "outputs": [
    {
     "name": "stdout",
     "text": [
      "20.09\n403.43\n2.72\n8103.08\n"
     ],
     "output_type": "stream"
    },
    {
     "data": {
      "text/plain": "array([[1.00000e+00, 2.00000e+00, 2.00900e+01, 0.00000e+00],\n       [4.00000e+00, 5.00000e+00, 4.03430e+02, 0.00000e+00],\n       [0.00000e+00, 5.00000e-01, 1.65000e+00, 0.00000e+00],\n       [7.00000e+00, 8.00000e+00, 8.10308e+03, 0.00000e+00]])"
     },
     "metadata": {},
     "output_type": "execute_result",
     "execution_count": 45
    }
   ],
   "source": [
    "M1 = np.array((\n",
    "    (1,2,3,0),\n",
    "    (4,5,6,0),\n",
    "    (0,1,1,6),\n",
    "    (7,8,9,0)\n",
    "))\n",
    "M2 = M1.copy()\n",
    "M2 = M2.astype(float)\n",
    "for i in M2[:, -2]:\n",
    "    print(col(i))\n",
    "M2[-2] = [line(i) for i in M2[-2]]\n",
    "M2[:, -2] = [col(i) for i in M2[:, -2]]\n",
    "M2\n"
   ],
   "metadata": {
    "collapsed": false,
    "pycharm": {
     "name": "#%%\n",
     "is_executing": false
    }
   }
  }
 ],
 "metadata": {
  "kernelspec": {
   "display_name": "Python 3",
   "language": "python",
   "name": "python3"
  },
  "language_info": {
   "codemirror_mode": {
    "name": "ipython",
    "version": 2
   },
   "file_extension": ".py",
   "mimetype": "text/x-python",
   "name": "python",
   "nbconvert_exporter": "python",
   "pygments_lexer": "ipython2",
   "version": "2.7.6"
  },
  "pycharm": {
   "stem_cell": {
    "cell_type": "raw",
    "source": [],
    "metadata": {
     "collapsed": false
    }
   }
  }
 },
 "nbformat": 4,
 "nbformat_minor": 0
}